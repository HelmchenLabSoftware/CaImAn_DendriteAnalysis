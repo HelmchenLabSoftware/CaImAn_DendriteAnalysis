{
 "cells": [
  {
   "cell_type": "markdown",
   "metadata": {},
   "source": [
    "## Preprocess and motion correct 3D movies\n",
    "Step 1 of the Caiman processing pipeline for multi-layer two-photon calcium imaging movies. Assume movie format acquired using the Scope setup (i.e. different layers arranged as mosaic on top of each other)."
   ]
  },
  {
   "cell_type": "markdown",
   "metadata": {},
   "source": [
    "### Imports & Setup\n",
    "The first cells import the various Python modules required by the notebook. In particular, a number of modules are imported from the Caiman package. In addition, we also setup the environment so that everything works as expected."
   ]
  },
  {
   "cell_type": "code",
   "execution_count": 1,
   "metadata": {},
   "outputs": [],
   "source": [
    "# Generic imports\n",
    "import os, sys, platform, re, math, getpass, shutil, tempfile\n",
    "import json, yaml\n",
    "import time\n",
    "import ipyparallel\n",
    "import xml.etree.ElementTree as ET\n",
    "import numpy as np\n",
    "# import scipy\n",
    "# import matplotlib.pyplot as plt\n",
    "# import skimage.transform\n",
    "# from tifffile import TiffFile, imread, imsave\n",
    "from tifffile import imsave\n",
    "from IPython.display import clear_output\n",
    "\n",
    "# Import Bokeh library\n",
    "# from bokeh.plotting import Figure, show\n",
    "# from bokeh.layouts import gridplot\n",
    "# from bokeh.models import Range1d, CrosshairTool, HoverTool, Legend\n",
    "# from bokeh.io import output_notebook, export_svgs\n",
    "# from bokeh.models.sources import ColumnDataSource\n",
    "# from bokeh import palettes\n",
    "\n",
    "# %matplotlib inline"
   ]
  },
  {
   "cell_type": "code",
   "execution_count": 2,
   "metadata": {},
   "outputs": [],
   "source": [
    "# on Linux we have to add the caiman folder to Pythonpath\n",
    "if platform.system() == 'Linux':\n",
    "    sys.path.append(os.path.expanduser('~/caiman'))\n",
    "# environment variables for parallel processing\n",
    "os.environ['MKL_NUM_THREADS']='1'\n",
    "os.environ['OPENBLAS_NUM_THREADS']='1'\n",
    "os.environ['VECLIB_MAXIMUM_THREADS']='1'"
   ]
  },
  {
   "cell_type": "code",
   "execution_count": 3,
   "metadata": {},
   "outputs": [],
   "source": [
    "# Import CaImAn and custom functions\n",
    "import caiman as cm\n",
    "from caiman.motion_correction import MotionCorrect\n",
    "from caiman.source_extraction.cnmf import params as params\n",
    "import utils, mc_utils"
   ]
  },
  {
   "cell_type": "code",
   "execution_count": 4,
   "metadata": {},
   "outputs": [],
   "source": [
    "# This has to be in a separate cell, otherwise it wont work.\n",
    "# from bokeh import resources\n",
    "# output_notebook(resources=resources.INLINE)"
   ]
  },
  {
   "cell_type": "markdown",
   "metadata": {},
   "source": [
    "### Read parameters from config file"
   ]
  },
  {
   "cell_type": "code",
   "execution_count": 5,
   "metadata": {},
   "outputs": [
    {
     "name": "stdout",
     "output_type": "stream",
     "text": [
      "{'general': {'ncpus': 4}, 'data': {'connect_storage': 0, 'storage_adress': '//130.60.51.15/Neurophysiology-Storage2', 'storage_user': 'luetcke', 'mountpoint': '/home/luetcke/neurophys-storage', 'copy_to_temp': 0, 'data_folder': '/Users/Henry/Data/temp/Dendrites_Gwen', 'animal_folder': 'M5.2', 'day_folder': 20181211, 'area_folder': 'S1', 'group_id': 'G0', 'mc_output': 'rig'}, 'analysis': {'max_trials': 10, 'n_planes': 4, 'x_crop': 0.5, 'max_group_size': 999, 'remove_bad_frames': 1}, 'mc': {'niter_rig': 5, 'pw_rigid': False, 'splits_rig': 50, 'num_splits_to_process_rig': 'None', 'strides': [24, 24], 'overlaps': [24, 24], 'splits_els': 50, 'num_splits_to_process_els': [28, 'None'], 'upsample_factor_grid': 4, 'max_deviation_rigid': 10, 'border_nan': False}, 'metrics': {'winsize': 100, 'swap_dim': False, 'resize_fact_flow': 0.2, 'iters_flow': 3}}\n"
     ]
    }
   ],
   "source": [
    "config_file = 'config.yml'\n",
    "with open(config_file) as f:\n",
    "    config = yaml.load(f, Loader=yaml.FullLoader)\n",
    "print(config)"
   ]
  },
  {
   "cell_type": "markdown",
   "metadata": {},
   "source": [
    "### Setup cluster for parallel processing\n",
    "This section starts the IPython cluster (ipcluster)."
   ]
  },
  {
   "cell_type": "code",
   "execution_count": 6,
   "metadata": {},
   "outputs": [],
   "source": [
    "ncpus = config['general']['ncpus']"
   ]
  },
  {
   "cell_type": "code",
   "execution_count": 7,
   "metadata": {
    "scrolled": false
   },
   "outputs": [
    {
     "name": "stderr",
     "output_type": "stream",
     "text": [
      "bash: line 1: /opt/Anaconda3-5.1.0-Linux-x86_64/bin/activate: No such file or directory\n",
      "2019-04-04 10:15:31.247 [IPClusterStop] CRITICAL | Could not read pid file, cluster is probably not running.\n"
     ]
    }
   ],
   "source": [
    "%%bash -s \"$ncpus\"\n",
    "source /opt/Anaconda3-5.1.0-Linux-x86_64/bin/activate caiman || source activate caiman\n",
    "ipcluster stop\n",
    "sleep 5\n",
    "ipcluster start --daemonize -n $1"
   ]
  },
  {
   "cell_type": "code",
   "execution_count": 8,
   "metadata": {},
   "outputs": [
    {
     "name": "stdout",
     "output_type": "stream",
     "text": [
      "\n",
      "\n",
      "The cluster appears to be setup. Number of parallel processes: 4\n"
     ]
    }
   ],
   "source": [
    "time.sleep(10)\n",
    "# connect client\n",
    "client = ipyparallel.Client()\n",
    "time.sleep(2)\n",
    "while len(client) < ncpus:\n",
    "    sys.stdout.write(\".\")  # Give some visual feedback of things starting\n",
    "    sys.stdout.flush()     # (de-buffered)\n",
    "    time.sleep(0.5)\n",
    "\n",
    "# create dview object\n",
    "client.direct_view().execute('__a=1', block=True)\n",
    "dview = client[:]\n",
    "n_processes = len(client)\n",
    "print('\\n\\nThe cluster appears to be setup. Number of parallel processes: %d' % (n_processes))"
   ]
  },
  {
   "cell_type": "markdown",
   "metadata": {},
   "source": [
    "### Map network drive\n",
    "If the data is located on a network drive (i.e. Neurophysiology storage), we first need to connect the drive with the relevant user credentials."
   ]
  },
  {
   "cell_type": "code",
   "execution_count": 9,
   "metadata": {},
   "outputs": [],
   "source": [
    "connect_storage = config['data']['connect_storage']\n",
    "if connect_storage:\n",
    "    storage_user = config['data']['storage_user']\n",
    "    storage_adress = config['data']['storage_adress']\n",
    "    mountpoint = config['data']['mountpoint']\n",
    "    storage_pw = getpass.getpass(prompt=\"Enter password for the remote storage\")"
   ]
  },
  {
   "cell_type": "code",
   "execution_count": 10,
   "metadata": {},
   "outputs": [],
   "source": [
    "# check if the mountpoint exists, if not create it\n",
    "if connect_storage:\n",
    "    if not os.path.isdir(mountpoint):\n",
    "        os.makedirs(mountpoint)\n",
    "    # list contents of the directory\n",
    "    os.listdir(mountpoint)"
   ]
  },
  {
   "cell_type": "code",
   "execution_count": 11,
   "metadata": {},
   "outputs": [
    {
     "name": "stdout",
     "output_type": "stream",
     "text": [
      "Not mounting storage\n"
     ]
    }
   ],
   "source": [
    "%%bash -s \"$connect_storage\" \"$storage_user\" \"$storage_pw\" \"$storage_adress\" \"$mountpoint\"\n",
    "if [ \"$1\" = 1 ]; then\n",
    "    sudo mount -t cifs -o username=$2,password=$3,uid=$(id -u),gid=$(id -g) $4 $5\n",
    "else\n",
    "    echo \"Not mounting storage\"\n",
    "fi"
   ]
  },
  {
   "cell_type": "code",
   "execution_count": 12,
   "metadata": {},
   "outputs": [],
   "source": [
    "# list contents of the directory\n",
    "if connect_storage:\n",
    "    print('Mountpoint folder content:')\n",
    "    print(os.listdir(mountpoint))"
   ]
  },
  {
   "cell_type": "markdown",
   "metadata": {},
   "source": [
    "### Read other parameters from config file"
   ]
  },
  {
   "cell_type": "code",
   "execution_count": 13,
   "metadata": {},
   "outputs": [],
   "source": [
    "# data parameters\n",
    "data_folder = str(config['data']['data_folder'])\n",
    "animal_folder = str(config['data']['animal_folder'])\n",
    "day_folder = str(config['data']['day_folder'])\n",
    "area_folder = str(config['data']['area_folder'])\n",
    "data_folder = os.path.join(data_folder, animal_folder, day_folder, area_folder)\n",
    "copy_to_temp = bool(config['data']['copy_to_temp'])\n",
    "\n",
    "# analysis parameters\n",
    "max_trials = config['analysis']['max_trials']\n",
    "x_crop = config['analysis']['x_crop']\n",
    "n_planes = config['analysis']['n_planes']\n",
    "max_group_size = config['analysis']['max_group_size']"
   ]
  },
  {
   "cell_type": "markdown",
   "metadata": {},
   "source": [
    "Copy the config file to the data folder, so that analysis parameters are preserved."
   ]
  },
  {
   "cell_type": "code",
   "execution_count": 14,
   "metadata": {},
   "outputs": [
    {
     "data": {
      "text/plain": [
       "'/Users/Henry/Data/temp/Dendrites_Gwen/M5.2/20181211/S1/config_mc.yml'"
      ]
     },
     "execution_count": 14,
     "metadata": {},
     "output_type": "execute_result"
    }
   ],
   "source": [
    "shutil.copy2(config_file, os.path.join(data_folder, config_file.replace('.yml', '_mc.yml')))"
   ]
  },
  {
   "cell_type": "markdown",
   "metadata": {},
   "source": [
    "### Copy data to temporary folder\n",
    "If the data is stored on a remote network location, it is more robust to copy it to a local temporary folder for analysis. Afterwards, the results are copied back to the original location."
   ]
  },
  {
   "cell_type": "code",
   "execution_count": 15,
   "metadata": {},
   "outputs": [],
   "source": [
    "if copy_to_temp:\n",
    "    # create a temp directory for analysis\n",
    "    temp_dir = tempfile.mkdtemp()\n",
    "    # create the data folder structure in the temporary directory\n",
    "    temp_data_folder = os.path.join(temp_dir, animal_folder, day_folder, area_folder)\n",
    "    os.makedirs(temp_data_folder, exist_ok=True)\n",
    "    print('Created temporary analysis folder %s' % (temp_data_folder))"
   ]
  },
  {
   "cell_type": "code",
   "execution_count": 16,
   "metadata": {
    "scrolled": true
   },
   "outputs": [],
   "source": [
    "# select sessions for processing\n",
    "p = re.compile('\\d\\d-\\d\\d-\\d\\d_Live') # regular expression that should match the folder names (ie. 01-23-45_Live)\n",
    "sessions = [os.path.join(data_folder, x) for (i,x) in enumerate(sorted(os.listdir(data_folder))) if p.match(x) and i <= max_trials]"
   ]
  },
  {
   "cell_type": "code",
   "execution_count": 17,
   "metadata": {
    "scrolled": false
   },
   "outputs": [],
   "source": [
    "# copy data to temporary folder\n",
    "if copy_to_temp:\n",
    "    t_start = time.time()\n",
    "    temp_sessions = dview.map_sync(utils.copyDirectory, sessions, [temp_data_folder]*len(sessions))\n",
    "    # print elapsed time\n",
    "    t_elapsed = time.time() - t_start\n",
    "    print('Copied data to %s in %1.2f s (%1.2f s per session)' % (temp_dir, t_elapsed, t_elapsed/len(sessions)))"
   ]
  },
  {
   "cell_type": "code",
   "execution_count": 18,
   "metadata": {},
   "outputs": [],
   "source": [
    "if copy_to_temp:\n",
    "    sessions = temp_sessions\n",
    "    working_data_folder = temp_data_folder\n",
    "else:\n",
    "    working_data_folder = data_folder"
   ]
  },
  {
   "cell_type": "markdown",
   "metadata": {},
   "source": [
    "### Select TIFF files and extract metadata"
   ]
  },
  {
   "cell_type": "code",
   "execution_count": 19,
   "metadata": {},
   "outputs": [],
   "source": [
    "tiff_files = []\n",
    "xml_files = []\n",
    "for i_session in sessions:\n",
    "    tiff_files.append([os.path.join(i_session, x) for x in os.listdir(i_session) if x.endswith('.tif') and not 'stacked' in x][0])\n",
    "    xml_files.append([os.path.join(i_session, x) for x in os.listdir(i_session) if 'parameters.xml' in x][0])"
   ]
  },
  {
   "cell_type": "code",
   "execution_count": 20,
   "metadata": {},
   "outputs": [
    {
     "name": "stdout",
     "output_type": "stream",
     "text": [
      "Frame rate: 40.8319 Hz (09-52-17_Live)\n",
      "Frame rate: 40.8319 Hz (09-52-31_Live)\n",
      "Frame rate: 40.8319 Hz (09-52-45_Live)\n",
      "Frame rate: 40.8319 Hz (09-52-59_Live)\n",
      "Frame rate: 40.8319 Hz (09-53-11_Live)\n",
      "Frame rate: 40.8319 Hz (09-53-25_Live)\n",
      "Frame rate: 40.8319 Hz (09-53-39_Live)\n",
      "Frame rate: 40.8319 Hz (09-53-51_Live)\n",
      "Frame rate: 40.8319 Hz (09-54-03_Live)\n",
      "Frame rate: 40.8319 Hz (09-54-17_Live)\n"
     ]
    }
   ],
   "source": [
    "# read frame rate from parameters.xml\n",
    "frame_rates = []\n",
    "for ix, i_session in enumerate(sessions):\n",
    "    tree = ET.parse(xml_files[ix])\n",
    "    root = tree.getroot()\n",
    "    for child in root:\n",
    "        if child.tag == 'area0': # Note: only area 0!\n",
    "            fr = child.find('Framerate_Hz')\n",
    "            frame_rate = float(fr.text)\n",
    "            frame_rates.append(frame_rate)\n",
    "    if ix <= 10:\n",
    "        print('Frame rate: %1.4f Hz (%s)' % (frame_rate, os.path.split(i_session)[1]))\n",
    "if ix > 10:\n",
    "    print('...')"
   ]
  },
  {
   "cell_type": "markdown",
   "metadata": {},
   "source": [
    "### Convert TIFF files to ImageJ hyperstack files\n",
    "This cell calls the `mosaicToStack` function in `utils` through the ipyparallel `map_sync` method to make use of multiple cores."
   ]
  },
  {
   "cell_type": "code",
   "execution_count": 21,
   "metadata": {
    "scrolled": false
   },
   "outputs": [],
   "source": [
    "stacked_files = dview.map_sync(utils.mosaicToStack, tiff_files, [n_planes]*len(tiff_files), [x_crop]*len(tiff_files))"
   ]
  },
  {
   "cell_type": "code",
   "execution_count": 22,
   "metadata": {},
   "outputs": [
    {
     "name": "stdout",
     "output_type": "stream",
     "text": [
      "Processing 10 files:\n",
      "/Users/Henry/Data/temp/Dendrites_Gwen/M5.2/20181211/S1/09-52-17_Live/test_A0_Ch0_ 0033_stacked.tif\n",
      "/Users/Henry/Data/temp/Dendrites_Gwen/M5.2/20181211/S1/09-52-31_Live/test_A0_Ch0_ 0034_stacked.tif\n",
      "/Users/Henry/Data/temp/Dendrites_Gwen/M5.2/20181211/S1/09-52-45_Live/test_A0_Ch0_ 0035_stacked.tif\n",
      "/Users/Henry/Data/temp/Dendrites_Gwen/M5.2/20181211/S1/09-52-59_Live/test_A0_Ch0_ 0036_stacked.tif\n",
      "/Users/Henry/Data/temp/Dendrites_Gwen/M5.2/20181211/S1/09-53-11_Live/test_A0_Ch0_ 0037_stacked.tif\n",
      "/Users/Henry/Data/temp/Dendrites_Gwen/M5.2/20181211/S1/09-53-25_Live/test_A0_Ch0_ 0038_stacked.tif\n",
      "/Users/Henry/Data/temp/Dendrites_Gwen/M5.2/20181211/S1/09-53-39_Live/test_A0_Ch0_ 0039_stacked.tif\n",
      "/Users/Henry/Data/temp/Dendrites_Gwen/M5.2/20181211/S1/09-53-51_Live/test_A0_Ch0_ 0040_stacked.tif\n",
      "/Users/Henry/Data/temp/Dendrites_Gwen/M5.2/20181211/S1/09-54-03_Live/test_A0_Ch0_ 0041_stacked.tif\n",
      "/Users/Henry/Data/temp/Dendrites_Gwen/M5.2/20181211/S1/09-54-17_Live/test_A0_Ch0_ 0042_stacked.tif\n"
     ]
    }
   ],
   "source": [
    "print('Processing %1.0f files:' % (len(stacked_files)))\n",
    "print(*stacked_files[:10], sep='\\n')\n",
    "if len(stacked_files) > 10:\n",
    "    print('...')\n",
    "    print(*stacked_files[-5:], sep='\\n')"
   ]
  },
  {
   "cell_type": "markdown",
   "metadata": {},
   "source": [
    "### Join cropped TIF files\n",
    "Next, we create a large joined TIF file from individual cropped files. Further processing will be done on the joined file."
   ]
  },
  {
   "cell_type": "code",
   "execution_count": 23,
   "metadata": {},
   "outputs": [
    {
     "name": "stdout",
     "output_type": "stream",
     "text": [
      "Processing files in 1 groups\n",
      "Group 1 (0 - 10): 10 files\n"
     ]
    }
   ],
   "source": [
    "n_groups = math.ceil(len(stacked_files) / float(max_group_size))\n",
    "files_per_group = math.ceil(len(stacked_files) / n_groups)\n",
    "stacked_files_by_group = []\n",
    "print('Processing files in %d groups' % (n_groups))\n",
    "for i_groups in range(int(n_groups)):\n",
    "    start_ix = int(i_groups * files_per_group)\n",
    "    stop_ix = int((i_groups+1) * files_per_group)\n",
    "    stacked_files_by_group.append(stacked_files[start_ix:stop_ix])\n",
    "    \n",
    "    print('Group %d (%d - %d): %d files' % (i_groups+1, start_ix, stop_ix, len(stacked_files[start_ix:stop_ix])))"
   ]
  },
  {
   "cell_type": "code",
   "execution_count": 24,
   "metadata": {},
   "outputs": [
    {
     "name": "stderr",
     "output_type": "stream",
     "text": [
      "100%|██████████| 10/10 [00:00<00:00, 18.03it/s]\n"
     ]
    },
    {
     "name": "stdout",
     "output_type": "stream",
     "text": [
      "Saved joined TIF file 20181211_S1_Join_G0_F707_P0.tif\n",
      "Saved joined TIF file 20181211_S1_Join_G0_F707_P1.tif\n",
      "Saved joined TIF file 20181211_S1_Join_G0_F707_P2.tif\n",
      "Saved joined TIF file 20181211_S1_Join_G0_F707_P3.tif\n",
      "Created JSON metadata file 20181211_S1_Join_G0_F707.json\n"
     ]
    }
   ],
   "source": [
    "joined_tif_list = []\n",
    "json_fname_list = []\n",
    "total_frames_list = []\n",
    "trial_indices_list = []\n",
    "for i_group, stacked_files_group in enumerate(stacked_files_by_group):\n",
    "    # load movies\n",
    "    movies = cm.load_movie_chain(stacked_files_group, is3D=True, outtype=np.int16)\n",
    "    \n",
    "    total_frames = movies.shape[0]\n",
    "    total_frames_list.append(total_frames)\n",
    "    n_planes = movies.shape[1]\n",
    "    dims = (movies.shape[2], movies.shape[3])\n",
    "    \n",
    "    frames_per_movie = dview.map_sync(utils.getFramesTif, stacked_files_group)\n",
    "    \n",
    "     # trial index for each frame\n",
    "    trial_indices = []\n",
    "    for i_frame, frame_count in enumerate(frames_per_movie):\n",
    "        trial_indices = trial_indices + [i_frame]*frame_count\n",
    "    trial_indices_list.append(trial_indices)\n",
    "    \n",
    "    for i_plane in range(n_planes):\n",
    "        # derive joined file name and save\n",
    "        joined_tif = '%s_%s_Join_G%d_F%d_P%d.tif' % (day_folder, area_folder, i_group, total_frames, i_plane)\n",
    "        imsave(os.path.join(working_data_folder, joined_tif), movies[:, i_plane, :, :])\n",
    "        print('Saved joined TIF file %s' % (joined_tif))\n",
    "    \n",
    "    movies = None # free the memory\n",
    "    \n",
    "    # create a Json file with information about source files\n",
    "    meta = {\"joined_file\": joined_tif.replace('_P%d.tif' % (i_plane), ''), \n",
    "            \"source_frames\": frames_per_movie, \n",
    "            \"source_file\": [x.replace(working_data_folder + os.path.sep,'') for x in stacked_files_group],\n",
    "            \"trial_index\": trial_indices,\n",
    "            \"frame_rate\": frame_rate,\n",
    "            \"z_planes\": n_planes\n",
    "           }\n",
    "    json_fname = joined_tif.replace('_P%d.tif' % (i_plane), '.json')\n",
    "    with open(os.path.join(working_data_folder, json_fname), 'w') as fid:\n",
    "        json.dump(meta, fid)\n",
    "    \n",
    "    # save output file names in list\n",
    "    joined_tif_list.append(joined_tif.replace('_P%d.tif' % (i_plane), ''))\n",
    "    json_fname_list.append(json_fname)\n",
    "    \n",
    "    print('Created JSON metadata file %s' % (json_fname))\n",
    "    \n",
    "# delete stacked TIF files (to save disk space)\n",
    "dummy = dview.map_sync(os.remove, stacked_files)"
   ]
  },
  {
   "cell_type": "markdown",
   "metadata": {},
   "source": [
    "### Display average signal intensity\n",
    "This step is optional and useful as sanity check how the imported data looks like."
   ]
  },
  {
   "cell_type": "code",
   "execution_count": 25,
   "metadata": {},
   "outputs": [],
   "source": [
    "# # select group (0, 1, ...)\n",
    "# group_ix = 0\n",
    "\n",
    "# color_map = palettes.d3['Category10'][10] # colors for different planes\n",
    "\n",
    "# # prepare data structure\n",
    "# trial_names = [x.replace(working_data_folder + os.path.sep,'')[:8] for x in stacked_files_by_group[group_ix]]\n",
    "# trial_names_frames = [trial_names[x] for x in trial_indices_list[group_ix]]\n",
    "# data = {'x': np.array(range(total_frames_list[group_ix])), \n",
    "#         'trial_idx': trial_indices_list[group_ix],\n",
    "#         'trial_name': trial_names_frames\n",
    "#        }\n",
    "\n",
    "# # add average for each plane\n",
    "# for i_plane in range(n_planes):\n",
    "#     tiff_file = os.path.join(working_data_folder, joined_tif_list[group_ix] + '_P%d.tif' % (i_plane))\n",
    "#     mov = cm.load(tiff_file, outtype=np.int16)\n",
    "\n",
    "#     # plot average signal intensity per frame\n",
    "#     frame_avg = np.mean(np.mean(mov, axis=1), axis=1)\n",
    "\n",
    "#     fieldname = 'y%s' % (i_plane)\n",
    "#     data[fieldname] = frame_avg\n",
    "    \n",
    "# data_source = ColumnDataSource(data)\n",
    "\n",
    "# # create figure and plot\n",
    "# p = Figure(plot_width=900, plot_height=300, title=('Frame average - Group %d' % (group_ix))) \n",
    "# p.add_tools(CrosshairTool(), utils.getHover())\n",
    "# for i_plane in range(n_planes):\n",
    "#     p.line('x', 'y%s' % (i_plane), source=data_source, line_width=2, color=color_map[i_plane], legend='Plane %s' % (i_plane))\n",
    "\n",
    "# show(p)"
   ]
  },
  {
   "cell_type": "markdown",
   "metadata": {},
   "source": [
    "### Motion correction"
   ]
  },
  {
   "cell_type": "markdown",
   "metadata": {},
   "source": [
    "First, setup the parameters for motion correction. The following parameters influence the **quality** of the motion correction:\n",
    "- niter_rig ... number of iterations for rigid registration (larger = better). Little improvement likely above 5-10.\n",
    "- strides ... intervals at which patches are laid out for motion correction (smaller = better)\n",
    "- overlaps ... overlap between patches\n",
    "\n",
    "Note that smaller values for strides / overlap will improve registration but also lead to NaNs in the output image. In general, there is a trade-off between the quality of registration and the presence / number of NaNs in the output (at least if there is significant motion)."
   ]
  },
  {
   "cell_type": "code",
   "execution_count": 26,
   "metadata": {},
   "outputs": [],
   "source": [
    "# some parameters are derived directly from the data\n",
    "max_shifts = (int(np.round(dims[0]/10)), int(np.round(dims[1]/10)))  # maximum allow rigid shift"
   ]
  },
  {
   "cell_type": "code",
   "execution_count": 27,
   "metadata": {},
   "outputs": [],
   "source": [
    "for key in config['mc']:\n",
    "    if isinstance(config['mc'][key], (list,)):\n",
    "        # replace 'None' strings in lists with None\n",
    "        config['mc'][key] = [None if x == 'None' else x for x in config['mc'][key]]\n",
    "    elif isinstance(config['mc'][key], (str,)) and config['mc'][key] == 'None':\n",
    "        config['mc'][key] = None"
   ]
  },
  {
   "cell_type": "code",
   "execution_count": 28,
   "metadata": {},
   "outputs": [
    {
     "name": "stderr",
     "output_type": "stream",
     "text": [
      "WARNING:root:Changing key niter_rig in group motion from 1 to 5\n",
      "WARNING:root:Changing key max_shifts in group motion from (6, 6) to (8, 51)\n",
      "WARNING:root:Changing key splits_rig in group motion from 14 to 50\n",
      "WARNING:root:Changing key strides in group motion from (96, 96) to [24, 24]\n",
      "WARNING:root:Changing key overlaps in group motion from (32, 32) to [24, 24]\n",
      "WARNING:root:Changing key splits_els in group motion from 14 to 50\n",
      "WARNING:root:Changing key num_splits_to_process_els in group motion from [7, None] to [28, None]\n",
      "WARNING:root:Changing key max_deviation_rigid in group motion from 3 to 10\n",
      "WARNING:root:Changing key border_nan in group motion from copy to False\n"
     ]
    }
   ],
   "source": [
    "# parameters for motion correction\n",
    "opts_dict = {\n",
    "    # number of iterations rigid\n",
    "    'niter_rig': config['mc']['niter_rig'],\n",
    "    # run piecewise-rigid registration?\n",
    "    'pw_rigid': config['mc']['pw_rigid'],\n",
    "    'max_shifts': max_shifts,  # maximum allow rigid shift\n",
    "    # for parallelization split the movies in num_splits chuncks across time\n",
    "    'splits_rig': config['mc']['splits_rig'],\n",
    "    # if none all the splits are processed and the movie is saved\n",
    "    'num_splits_to_process_rig': config['mc']['num_splits_to_process_rig'],\n",
    "    # intervals at which patches are laid out for motion correction\n",
    "    'strides': config['mc']['strides'],\n",
    "    # overlap between patches (size of patch strides+overlaps)\n",
    "    'overlaps': config['mc']['overlaps'],\n",
    "    # for parallelization split the movies in num_splits chuncks across time\n",
    "    'splits_els': config['mc']['splits_els'],\n",
    "    # if none all the splits are processed and the movie is saved\n",
    "    'num_splits_to_process_els': config['mc']['num_splits_to_process_els'],\n",
    "    'upsample_factor_grid': config['mc']['upsample_factor_grid'],  # upsample factor to avoid smearing when merging patches\n",
    "    # maximum deviation allowed for patch with respect to rigid shift\n",
    "    'max_deviation_rigid': config['mc']['max_deviation_rigid'],\n",
    "    # Specifies how to deal with borders. (True, False, 'copy', 'min')\n",
    "    'border_nan': config['mc']['border_nan'],\n",
    "}\n",
    "opts = params.CNMFParams(params_dict=opts_dict)"
   ]
  },
  {
   "cell_type": "markdown",
   "metadata": {},
   "source": [
    "There are also some parameters for computing the quality metrics. These probably don't have to be changed."
   ]
  },
  {
   "cell_type": "code",
   "execution_count": 29,
   "metadata": {},
   "outputs": [],
   "source": [
    "# parameters for computing metrics\n",
    "winsize = config['metrics']['winsize']\n",
    "swap_dim = config['metrics']['swap_dim']\n",
    "resize_fact_flow = config['metrics']['resize_fact_flow']    # downsample for computing ROF\n",
    "iters_flow = config['metrics']['iters_flow'] # iterations for calculation of optic flow"
   ]
  },
  {
   "cell_type": "markdown",
   "metadata": {},
   "source": [
    "Next, we define some functions. See the function doc strings for further information."
   ]
  },
  {
   "cell_type": "markdown",
   "metadata": {},
   "source": [
    "Now we are ready to run motion correction for the joined TIF file. If there are a lot of concatenated trials, this might take a while to complete.\n",
    "\n",
    "The following outputs will be saved:\n",
    "- result of rigid motion correction in Python mmap format and as TIF file\n",
    "- result of pw-rigid motion correction in Python mmap format and as TIF file"
   ]
  },
  {
   "cell_type": "markdown",
   "metadata": {},
   "source": [
    "### Correlation with template - uncorrected data\n",
    "First, we just get the correlation with the template for the uncorrected data. This part is optional and can be used for example to re-assign groups."
   ]
  },
  {
   "cell_type": "code",
   "execution_count": 30,
   "metadata": {
    "scrolled": false
   },
   "outputs": [],
   "source": [
    "# # Todo: parallelize\n",
    "# corr_orig_list = []\n",
    "\n",
    "# t_start = time.time()\n",
    "# for ix_file, i_file in enumerate(joined_tif_list):\n",
    "#     corr_orig_list.append([])\n",
    "#     for i_plane in range(n_planes):\n",
    "#         fname = os.path.join(working_data_folder, i_file + '_P%d.tif' % (i_plane))\n",
    "\n",
    "#         # compute initial template by binned median filtering\n",
    "#         template = cm.load(fname).bin_median(window=10)\n",
    "    \n",
    "#         corr_orig = []\n",
    "#         for frame in cm.load(fname):\n",
    "#             corr_orig.append(scipy.stats.pearsonr(frame.flatten(), template.flatten())[0])\n",
    "#         corr_orig_list[ix_file].append(corr_orig)\n",
    "    \n",
    "# # print elapsed time\n",
    "# t_elapsed = time.time() - t_start\n",
    "# print('\\nFinished pre-MC in %1.2f s (%1.2f s per frame)' % (t_elapsed, t_elapsed/(sum(total_frames_list)*n_planes)))"
   ]
  },
  {
   "cell_type": "code",
   "execution_count": 31,
   "metadata": {
    "scrolled": false
   },
   "outputs": [],
   "source": [
    "# # select group (0, 1, ...)\n",
    "# group_ix = 0\n",
    "\n",
    "# trial_names = [x.replace(working_data_folder + os.path.sep,'')[:8] for x in stacked_files_by_group[group_ix]]\n",
    "# trial_names_frames = [trial_names[x] for x in trial_indices_list[group_ix]]\n",
    "\n",
    "# # frames = np.array(range(len(corr_orig_list[group_ix])))\n",
    "# data = {'x': np.array(range(len(corr_orig_list[group_ix][0]))), \n",
    "#         'trial_idx': trial_indices_list[group_ix],\n",
    "#         'trial_name': trial_names_frames\n",
    "#        }\n",
    "\n",
    "# # add average for each plane\n",
    "# for i_plane in range(n_planes):\n",
    "#     fieldname = 'y%s' % (i_plane)\n",
    "#     data[fieldname] = corr_orig_list[group_ix][i_plane]\n",
    "\n",
    "# data_source = ColumnDataSource(data)\n",
    "\n",
    "# p = Figure(plot_width=900, plot_height=300, title=('Correlation with template - Group %d' % (group_ix))) \n",
    "# p.add_tools(CrosshairTool(), utils.getHover())\n",
    "# for i_plane in range(n_planes):\n",
    "#     p.line('x', 'y%s' % (i_plane), source=data_source, line_width=2, color=color_map[i_plane], legend='Plane %s' % (i_plane))\n",
    "\n",
    "# show(p)"
   ]
  },
  {
   "cell_type": "markdown",
   "metadata": {},
   "source": [
    "### Run the motion correction\n",
    "Next, we run the MC. This can be time consuming for large datasets."
   ]
  },
  {
   "cell_type": "code",
   "execution_count": 32,
   "metadata": {
    "scrolled": false
   },
   "outputs": [
    {
     "name": "stdout",
     "output_type": "stream",
     "text": [
      "Finished MC for 20181211_S1_Join_G0_F707 - Plane 1 of 4\n",
      "Finished MC for 20181211_S1_Join_G0_F707 - Plane 2 of 4\n",
      "Finished MC for 20181211_S1_Join_G0_F707 - Plane 3 of 4\n",
      "Finished MC for 20181211_S1_Join_G0_F707 - Plane 4 of 4\n",
      "\n",
      "Finished MC in 93.48 s (0.03 s per frame)\n"
     ]
    }
   ],
   "source": [
    "t_start = time.time()\n",
    "mc_list = []\n",
    "for ix_file, i_file in enumerate(joined_tif_list):\n",
    "    mc_list.append([])\n",
    "    for i_plane in range(n_planes):\n",
    "        fname = os.path.join(working_data_folder, i_file + '_P%d.tif' % (i_plane))\n",
    "        \n",
    "        if opts.get('motion', 'pw_rigid'):\n",
    "            opts.set('motion', {'pw_rigid': False})\n",
    "            mc = MotionCorrect(fname, dview=dview, **opts.get_group('motion'))\n",
    "            mc.motion_correct(save_movie=True)\n",
    "            fname_rig = mc.fname_tot_rig\n",
    "            opts.set('motion', {'pw_rigid': True})\n",
    "        \n",
    "        mc = MotionCorrect(fname, dview=dview, **opts.get_group('motion'))\n",
    "        mc.motion_correct(save_movie=True)\n",
    "        \n",
    "        if opts.get('motion', 'pw_rigid'):\n",
    "            mc.fname_tot_rig = fname_rig\n",
    "        \n",
    "        mc_list[ix_file].append(mc)\n",
    "        print('Finished MC for %s - Plane %d of %d' % (i_file, i_plane+1, n_planes))\n",
    "\n",
    "# print elapsed time\n",
    "t_elapsed = time.time() - t_start\n",
    "print('\\nFinished MC in %1.2f s (%1.2f s per frame)' % (t_elapsed, t_elapsed/(sum(total_frames_list)*n_planes)))"
   ]
  },
  {
   "cell_type": "markdown",
   "metadata": {},
   "source": [
    "### Assess quality of motion correction\n",
    "A number of key metrics can be calculated to assess how much motion correction improved overall motion. \n",
    "1. Correlation\n",
    "Correlations of each frame with the template image (binned median) for original, rigid correction and pw-rigid correction. The mean correlation gives an overall impression of motion. The minimum correlation indicates the parts of the movie that are worst affected by motion. Larger correlations indicate less motion.\n",
    "2. Crispness\n",
    "Crispness provides a measure of the smoothness of the corrected average image. Intuitively, a dataset with nonregistered motion will have a blurred mean image, resulting in a lower value for the total gradient field norm. Thus, larger values indicate a crisper average image and less residual motion. Crispness is calculated from the gradient field of the mean image (`np.gradient`).\n",
    "3. Residual optical flow\n",
    "Optic flow algorithms attempt to match each frame to the template by estimating locally smooth displacement fields. The output is an image where each pixel described the local displacement between template and frame at this point. The smaller the local displacement, the better the registration. Here we compute the matrix norm of the optic flow matrix as summary statistic."
   ]
  },
  {
   "cell_type": "code",
   "execution_count": 33,
   "metadata": {},
   "outputs": [],
   "source": [
    "# compute quality assessment metrics\n",
    "crispness = []\n",
    "norms = []\n",
    "corr_mean = []\n",
    "corr_min = []\n",
    "metrics = []\n",
    "for i_group in range(n_groups):\n",
    "    crispness.append([])\n",
    "    norms.append([])\n",
    "    corr_mean.append([])\n",
    "    corr_min.append([])\n",
    "    metrics.append([])\n",
    "    mc_group = mc_list[i_group]\n",
    "    \n",
    "    # remove Pool object (required for parallel processing)\n",
    "    for ix, i_mc in enumerate(mc_group):\n",
    "        i_mc.dview = None\n",
    "        mc_group[ix] = i_mc\n",
    "    \n",
    "    metrics_list = dview.map_sync(mc_utils.computeMetrics, mc_group, [swap_dim]*len(mc_group), \n",
    "                                  [winsize]*len(mc_group), [resize_fact_flow]*len(mc_group), \n",
    "                                  [iters_flow]*len(mc_group))\n",
    "    \n",
    "    # collect results\n",
    "    for mtrs in metrics_list:\n",
    "        metrics[i_group].append(mtrs)\n",
    "        if opts.get('motion', 'pw_rigid'):\n",
    "            # correlations, crispness and norms of residual optic flow as indicators of registration quality\n",
    "            crispness[i_group].append(np.array([mtrs['crispness_orig'], mtrs['crispness_rig'], mtrs['crispness_els']]))\n",
    "            norms[i_group].append(np.array([np.mean(mtrs['norms_orig']), np.mean(mtrs['norms_rig']), np.mean(mtrs['norms_els'])]))\n",
    "            corr_mean[i_group].append(np.array([np.mean(mtrs['corr_orig']), np.mean(mtrs['corr_rig']), np.mean(mtrs['corr_els'])]))\n",
    "            corr_min[i_group].append(np.array([np.min(mtrs['corr_orig']), np.min(mtrs['corr_rig']), np.min(mtrs['corr_els'])]))\n",
    "        else:\n",
    "            crispness[i_group].append(np.array([mtrs['crispness_orig'], mtrs['crispness_rig']]))\n",
    "            norms[i_group].append(np.array([np.mean(mtrs['norms_orig']), np.mean(mtrs['norms_rig'])]))\n",
    "            corr_mean[i_group].append(np.array([np.mean(mtrs['corr_orig']), np.mean(mtrs['corr_rig'])]))\n",
    "            corr_min[i_group].append(np.array([np.min(mtrs['corr_orig']), np.min(mtrs['corr_rig'])]))\n",
    "\n",
    "clear_output()"
   ]
  },
  {
   "cell_type": "markdown",
   "metadata": {},
   "source": [
    "Print different metrics for raw movie and rigid / pw-rigid corrected movies."
   ]
  },
  {
   "cell_type": "code",
   "execution_count": 34,
   "metadata": {},
   "outputs": [
    {
     "name": "stdout",
     "output_type": "stream",
     "text": [
      "MC evaluation - Group 0 - Plane 0:\n",
      "Mean corr - raw / rigid: ['0.15', '0.22']\n",
      "Min corr - raw / rigid: ['0.04', '0.09']\n",
      "Crispness - raw / rigid: ['38', '59']\n",
      "Norms - raw / rigid: ['6.06', '2.78']\n",
      "\n",
      "\n",
      "MC evaluation - Group 0 - Plane 1:\n",
      "Mean corr - raw / rigid: ['0.19', '0.27']\n",
      "Min corr - raw / rigid: ['0.07', '0.14']\n",
      "Crispness - raw / rigid: ['56', '90']\n",
      "Norms - raw / rigid: ['12.25', '5.81']\n",
      "\n",
      "\n",
      "MC evaluation - Group 0 - Plane 2:\n",
      "Mean corr - raw / rigid: ['0.21', '0.29']\n",
      "Min corr - raw / rigid: ['0.02', '0.04']\n",
      "Crispness - raw / rigid: ['58', '96']\n",
      "Norms - raw / rigid: ['16.23', '5.29']\n",
      "\n",
      "\n",
      "MC evaluation - Group 0 - Plane 3:\n",
      "Mean corr - raw / rigid: ['0.42', '0.59']\n",
      "Min corr - raw / rigid: ['0.08', '0.20']\n",
      "Crispness - raw / rigid: ['232', '377']\n",
      "\u001b[1;03;31mNorms - raw / rigid: ['169', '196']\u001b[0m\n",
      "\n",
      "\n"
     ]
    }
   ],
   "source": [
    "for i_group in range(n_groups):\n",
    "    for i_plane in range(n_planes):\n",
    "        print('MC evaluation - Group %d - Plane %d:' % (i_group, i_plane))\n",
    "        mc_utils.printMetrics(corr_mean[i_group][i_plane], corr_min[i_group][i_plane], crispness[i_group][i_plane], norms[i_group][i_plane])\n",
    "        print('\\n')"
   ]
  },
  {
   "cell_type": "markdown",
   "metadata": {},
   "source": [
    "#### Correlation with template image\n",
    "Plot correlations of each frame with the template image (binned median) for original, rigid correction and pw-rigid correction. The bokeh plotting library provides a toolbar for interaction with the plot."
   ]
  },
  {
   "cell_type": "code",
   "execution_count": 35,
   "metadata": {},
   "outputs": [],
   "source": [
    "# # select group (0, 1, ...)\n",
    "# group_ix = 0\n",
    "# # select plane (0, 1, ..)\n",
    "# plane_ix = 0\n",
    "\n",
    "# p1 = Figure(plot_width=900, plot_height=300, title=('Correlation with template - Group %d - Plane %d' % (group_ix, plane_ix))) \n",
    "# frames = np.array(range(len(metrics[group_ix][plane_ix]['corr_orig'])))\n",
    "# p1.line(frames,np.array(metrics[group_ix][plane_ix]['corr_orig']), line_width=2, legend='Original', color='blue')\n",
    "# p1.line(frames,np.array(metrics[group_ix][plane_ix]['corr_rig']), line_width=2, legend='Rigid', color='orange')\n",
    "# if opts.get('motion', 'pw_rigid'):\n",
    "#     p1.line(frames,np.array(metrics[group_ix][plane_ix]['corr_els']), line_width=2, legend='PW-Rigid', color='green')\n",
    "\n",
    "# p2 = Figure(plot_width=250, plot_height=250)\n",
    "# p2.circle(np.array(metrics[group_ix][plane_ix]['corr_orig']), np.array(metrics[group_ix][plane_ix]['corr_rig']), size=5)\n",
    "# p2.line([0,1],[0,1], line_width=1, color='black', line_dash='dashed')\n",
    "# p2.xaxis.axis_label = 'Original'\n",
    "# p2.yaxis.axis_label = 'Rigid'\n",
    "\n",
    "# if opts.get('motion', 'pw_rigid'):\n",
    "#     p3 = Figure(plot_width=250, plot_height=250)\n",
    "#     p3.circle(np.array(metrics[group_ix][plane_ix]['corr_rig']), np.array(metrics[group_ix][plane_ix]['corr_els']), size=5)\n",
    "#     p3.line([0,1],[0,1], line_width=1, color='black', line_dash='dashed')\n",
    "#     p3.xaxis.axis_label = 'Rigid'\n",
    "#     p3.yaxis.axis_label = 'PW-Rigid'\n",
    "\n",
    "# # make a grid\n",
    "# if opts.get('motion', 'pw_rigid'):\n",
    "#     grid = gridplot([[p1, None], [p2, p3]], sizing_mode='fixed', toolbar_location='left')\n",
    "# else:\n",
    "#     grid = gridplot([[p1, p2], [None, None]], sizing_mode='fixed', toolbar_location='left')\n",
    "\n",
    "# show(grid)"
   ]
  },
  {
   "cell_type": "markdown",
   "metadata": {},
   "source": [
    "### Detect frames with bad motion\n",
    "Identify frames with significant residual motion (low correlation with template). Write a JSON file with criterion and indices of frames matching the criterion. This file can be used in further analysis to exclude the frames corrupted by motion."
   ]
  },
  {
   "cell_type": "code",
   "execution_count": 36,
   "metadata": {},
   "outputs": [],
   "source": [
    "# thresh = [\n",
    "#     [0, 0.1, 0.1, 0.1]\n",
    "# ] # find frames where value is less than criterion (one value per group and plane)\n",
    "\n",
    "# for i_group in range(n_groups):\n",
    "#     for i_plane in range(n_planes):\n",
    "#         print('Group %d - Plane %d' % (i_group, i_plane))\n",
    "#         if opts.get('motion', 'pw_rigid'):\n",
    "#             # pw-rigid registration\n",
    "#             criterion = 'corr_els'\n",
    "#             bad_frames = [ix for ix, i in enumerate(metrics[i_group][i_plane][criterion]) \n",
    "#                           if i < thresh[i_group][i_plane]]\n",
    "#             print('%1.0f frames matching criterion after pw-rigid registration.' % (len(bad_frames)))\n",
    "#             mc_utils.writeJsonBadFrames(criterion, thresh[i_group][i_plane], \n",
    "#                                         bad_frames, mc_list[i_group][i_plane], 'els', working_data_folder)\n",
    "#         # rigid registration\n",
    "#         criterion = 'corr_rig'\n",
    "#         bad_frames = [ix for ix, i in enumerate(metrics[i_group][i_plane][criterion]) \n",
    "#                       if i < thresh[i_group][i_plane]]\n",
    "#         print('\\n%1.0f frames matching criterion after rigid registration.' % (len(bad_frames)))\n",
    "#         mc_utils.writeJsonBadFrames(criterion, thresh[i_group][i_plane], \n",
    "#                                     bad_frames, mc_list[i_group][i_plane], 'rig', working_data_folder)\n",
    "#         print('\\n')"
   ]
  },
  {
   "cell_type": "markdown",
   "metadata": {},
   "source": [
    "### Copy back results and delete the temporary folder\n",
    "If copying fails for any reason (e.g. no more disk space), we can still recover the results from the temporary folder."
   ]
  },
  {
   "cell_type": "code",
   "execution_count": 37,
   "metadata": {},
   "outputs": [],
   "source": [
    "if copy_to_temp:\n",
    "    file_types_to_copy = ['.tif', '.npz', '.json', '.mmap']\n",
    "    files_to_copy = []\n",
    "    for file_type in file_types_to_copy:\n",
    "        file_list = [x for x in os.listdir(working_data_folder) if not os.path.isdir(x) and x.endswith(file_type)]\n",
    "        files_to_copy = files_to_copy + file_list\n",
    "    out = [shutil.copy2(os.path.join(working_data_folder, x), data_folder) for x in files_to_copy]\n",
    "    \n",
    "    # delete the temp. dir\n",
    "    shutil.rmtree(temp_dir)"
   ]
  },
  {
   "cell_type": "markdown",
   "metadata": {},
   "source": [
    "### Stop the cluster"
   ]
  },
  {
   "cell_type": "code",
   "execution_count": 38,
   "metadata": {},
   "outputs": [
    {
     "name": "stderr",
     "output_type": "stream",
     "text": [
      "bash: line 1: /opt/Anaconda3-5.1.0-Linux-x86_64/bin/activate: No such file or directory\n",
      "2019-04-04 10:18:02.776 [IPClusterStop] Stopping cluster [pid=36194] with [signal=<Signals.SIGINT: 2>]\n"
     ]
    }
   ],
   "source": [
    "%%bash\n",
    "source /opt/Anaconda3-5.1.0-Linux-x86_64/bin/activate caiman || source activate caiman\n",
    "ipcluster stop\n",
    "sleep 1"
   ]
  },
  {
   "cell_type": "code",
   "execution_count": null,
   "metadata": {},
   "outputs": [],
   "source": []
  }
 ],
 "metadata": {
  "kernelspec": {
   "display_name": "caiman",
   "language": "python",
   "name": "caiman"
  },
  "language_info": {
   "codemirror_mode": {
    "name": "ipython",
    "version": 3
   },
   "file_extension": ".py",
   "mimetype": "text/x-python",
   "name": "python",
   "nbconvert_exporter": "python",
   "pygments_lexer": "ipython3",
   "version": "3.6.7"
  }
 },
 "nbformat": 4,
 "nbformat_minor": 2
}
