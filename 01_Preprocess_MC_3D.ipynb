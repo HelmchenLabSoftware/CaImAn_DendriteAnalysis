{
 "cells": [
  {
   "cell_type": "markdown",
   "metadata": {},
   "source": [
    "## Preprocess and motion correct 3D movies\n",
    "Step 1 of the Caiman processing pipeline for multi-layer two-photon calcium imaging movies. Assume movie format acquired using the Scope setup (i.e. different layers arranged as mosaic on top of each other)."
   ]
  },
  {
   "cell_type": "markdown",
   "metadata": {},
   "source": [
    "### Imports & Setup\n",
    "The first cells import the various Python modules required by the notebook. In particular, a number of modules are imported from the Caiman package. In addition, we also setup the environment so that everything works as expected."
   ]
  },
  {
   "cell_type": "code",
   "execution_count": null,
   "metadata": {},
   "outputs": [],
   "source": [
    "# Generic imports\n",
    "import os, sys, platform, re, math, getpass, shutil, tempfile\n",
    "import json, yaml\n",
    "import time\n",
    "import ipyparallel\n",
    "import xml.etree.ElementTree as ET\n",
    "import numpy as np\n",
    "# import skimage.transform\n",
    "# from tifffile import TiffFile, imread, imsave\n",
    "from tifffile import imsave\n",
    "from IPython.display import clear_output"
   ]
  },
  {
   "cell_type": "code",
   "execution_count": null,
   "metadata": {},
   "outputs": [],
   "source": [
    "# on Linux we have to add the caiman folder to Pythonpath\n",
    "if platform.system() == 'Linux':\n",
    "    sys.path.append(os.path.expanduser('~/caiman'))\n",
    "# environment variables for parallel processing\n",
    "os.environ['MKL_NUM_THREADS']='1'\n",
    "os.environ['OPENBLAS_NUM_THREADS']='1'\n",
    "os.environ['VECLIB_MAXIMUM_THREADS']='1'"
   ]
  },
  {
   "cell_type": "code",
   "execution_count": null,
   "metadata": {},
   "outputs": [],
   "source": [
    "# Import CaImAn and custom functions\n",
    "import caiman as cm\n",
    "from caiman.motion_correction import MotionCorrect\n",
    "from caiman.source_extraction.cnmf import params as params\n",
    "import utils, mc_utils"
   ]
  },
  {
   "cell_type": "markdown",
   "metadata": {},
   "source": [
    "### Read parameters from config file"
   ]
  },
  {
   "cell_type": "code",
   "execution_count": null,
   "metadata": {
    "tags": [
     "parameters"
    ]
   },
   "outputs": [],
   "source": [
    "config_file = 'config.yml'"
   ]
  },
  {
   "cell_type": "code",
   "execution_count": null,
   "metadata": {},
   "outputs": [],
   "source": [
    "with open(config_file) as f:\n",
    "    config = yaml.load(f, Loader=yaml.FullLoader)\n",
    "print(config)"
   ]
  },
  {
   "cell_type": "markdown",
   "metadata": {},
   "source": [
    "### Setup cluster for parallel processing\n",
    "This section starts the IPython cluster (ipcluster)."
   ]
  },
  {
   "cell_type": "code",
   "execution_count": null,
   "metadata": {},
   "outputs": [],
   "source": [
    "ncpus = config['general']['ncpus']"
   ]
  },
  {
   "cell_type": "code",
   "execution_count": null,
   "metadata": {
    "scrolled": false
   },
   "outputs": [],
   "source": [
    "%%bash -s \"$ncpus\"\n",
    "source /opt/Anaconda3-5.1.0-Linux-x86_64/bin/activate caiman || source activate caiman\n",
    "ipcluster stop\n",
    "sleep 5\n",
    "ipcluster start --daemonize -n $1"
   ]
  },
  {
   "cell_type": "code",
   "execution_count": null,
   "metadata": {},
   "outputs": [],
   "source": [
    "time.sleep(10)\n",
    "# connect client\n",
    "client = ipyparallel.Client()\n",
    "time.sleep(2)\n",
    "while len(client) < ncpus:\n",
    "    sys.stdout.write(\".\")  # Give some visual feedback of things starting\n",
    "    sys.stdout.flush()     # (de-buffered)\n",
    "    time.sleep(0.5)\n",
    "\n",
    "# create dview object\n",
    "client.direct_view().execute('__a=1', block=True)\n",
    "dview = client[:]\n",
    "n_processes = len(client)\n",
    "print('\\n\\nThe cluster appears to be setup. Number of parallel processes: %d' % (n_processes))"
   ]
  },
  {
   "cell_type": "markdown",
   "metadata": {},
   "source": [
    "### Map network drive\n",
    "If the data is located on a network drive (i.e. Neurophysiology storage), we first need to connect the drive with the relevant user credentials."
   ]
  },
  {
   "cell_type": "code",
   "execution_count": null,
   "metadata": {},
   "outputs": [],
   "source": [
    "connect_storage = config['data']['connect_storage']\n",
    "if connect_storage:\n",
    "    storage_user = config['data']['storage_user']\n",
    "    storage_adress = config['data']['storage_adress']\n",
    "    mountpoint = config['data']['mountpoint']\n",
    "    storage_pw = getpass.getpass(prompt=\"Enter password for the remote storage\")"
   ]
  },
  {
   "cell_type": "code",
   "execution_count": null,
   "metadata": {},
   "outputs": [],
   "source": [
    "# check if the mountpoint exists, if not create it\n",
    "if connect_storage:\n",
    "    if not os.path.isdir(mountpoint):\n",
    "        os.makedirs(mountpoint)\n",
    "    # list contents of the directory\n",
    "    os.listdir(mountpoint)"
   ]
  },
  {
   "cell_type": "code",
   "execution_count": null,
   "metadata": {},
   "outputs": [],
   "source": [
    "%%bash -s \"$connect_storage\" \"$storage_user\" \"$storage_pw\" \"$storage_adress\" \"$mountpoint\"\n",
    "if [ \"$1\" = 1 ]; then\n",
    "    sudo mount -t cifs -o username=$2,password=$3,uid=$(id -u),gid=$(id -g) $4 $5\n",
    "else\n",
    "    echo \"Not mounting storage\"\n",
    "fi"
   ]
  },
  {
   "cell_type": "code",
   "execution_count": null,
   "metadata": {},
   "outputs": [],
   "source": [
    "# list contents of the directory\n",
    "if connect_storage:\n",
    "    print('Mountpoint folder content:')\n",
    "    print(os.listdir(mountpoint))"
   ]
  },
  {
   "cell_type": "markdown",
   "metadata": {},
   "source": [
    "### Read other parameters from config file"
   ]
  },
  {
   "cell_type": "code",
   "execution_count": null,
   "metadata": {},
   "outputs": [],
   "source": [
    "# data parameters\n",
    "data_folder = str(config['data']['data_folder'])\n",
    "animal_folder = str(config['data']['animal_folder'])\n",
    "day_folder = str(config['data']['day_folder'])\n",
    "area_folder = str(config['data']['area_folder'])\n",
    "data_folder = os.path.join(data_folder, animal_folder, day_folder, area_folder)\n",
    "copy_to_temp = bool(config['data']['copy_to_temp'])\n",
    "\n",
    "# analysis parameters\n",
    "max_trials = config['analysis']['max_trials']\n",
    "x_crop = config['analysis']['x_crop']\n",
    "n_planes = config['analysis']['n_planes']\n",
    "max_group_size = config['analysis']['max_group_size']"
   ]
  },
  {
   "cell_type": "markdown",
   "metadata": {},
   "source": [
    "### Copy data to temporary folder\n",
    "If the data is stored on a remote network location, it is more robust to copy it to a local temporary folder for analysis. Afterwards, the results are copied back to the original location."
   ]
  },
  {
   "cell_type": "code",
   "execution_count": null,
   "metadata": {},
   "outputs": [],
   "source": [
    "if copy_to_temp:\n",
    "    # create a temp directory for analysis\n",
    "    temp_dir = tempfile.mkdtemp()\n",
    "    # create the data folder structure in the temporary directory\n",
    "    temp_data_folder = os.path.join(temp_dir, animal_folder, day_folder, area_folder)\n",
    "    os.makedirs(temp_data_folder, exist_ok=True)\n",
    "    print('Created temporary analysis folder %s' % (temp_data_folder))"
   ]
  },
  {
   "cell_type": "code",
   "execution_count": null,
   "metadata": {
    "scrolled": true
   },
   "outputs": [],
   "source": [
    "# select sessions for processing\n",
    "p = re.compile('\\d\\d-\\d\\d-\\d\\d_Live') # regular expression that should match the folder names (ie. 01-23-45_Live)\n",
    "sessions = [os.path.join(data_folder, x) for (i,x) in enumerate(sorted(os.listdir(data_folder))) if p.match(x) and i <= max_trials]"
   ]
  },
  {
   "cell_type": "code",
   "execution_count": null,
   "metadata": {
    "scrolled": false
   },
   "outputs": [],
   "source": [
    "# copy data to temporary folder\n",
    "if copy_to_temp:\n",
    "    t_start = time.time()\n",
    "    temp_sessions = dview.map_sync(utils.copyDirectory, sessions, [temp_data_folder]*len(sessions))\n",
    "    # print elapsed time\n",
    "    t_elapsed = time.time() - t_start\n",
    "    print('Copied data to %s in %1.2f s (%1.2f s per session)' % (temp_dir, t_elapsed, t_elapsed/len(sessions)))"
   ]
  },
  {
   "cell_type": "code",
   "execution_count": null,
   "metadata": {},
   "outputs": [],
   "source": [
    "if copy_to_temp:\n",
    "    sessions = temp_sessions\n",
    "    working_data_folder = temp_data_folder\n",
    "else:\n",
    "    working_data_folder = data_folder"
   ]
  },
  {
   "cell_type": "markdown",
   "metadata": {},
   "source": [
    "### Select TIFF files and extract metadata"
   ]
  },
  {
   "cell_type": "code",
   "execution_count": null,
   "metadata": {},
   "outputs": [],
   "source": [
    "tiff_files = []\n",
    "xml_files = []\n",
    "for i_session in sessions:\n",
    "    tiff_files.append([os.path.join(i_session, x) for x in os.listdir(i_session) if x.endswith('.tif') and not 'stacked' in x][0])\n",
    "    xml_files.append([os.path.join(i_session, x) for x in os.listdir(i_session) if 'parameters.xml' in x][0])"
   ]
  },
  {
   "cell_type": "code",
   "execution_count": null,
   "metadata": {},
   "outputs": [],
   "source": [
    "# read frame rate from parameters.xml\n",
    "frame_rates = []\n",
    "for ix, i_session in enumerate(sessions):\n",
    "    tree = ET.parse(xml_files[ix])\n",
    "    root = tree.getroot()\n",
    "    for child in root:\n",
    "        if child.tag == 'area0': # Note: only area 0!\n",
    "            fr = child.find('Framerate_Hz')\n",
    "            frame_rate = float(fr.text)\n",
    "            frame_rates.append(frame_rate)\n",
    "    if ix <= 10:\n",
    "        print('Frame rate: %1.4f Hz (%s)' % (frame_rate, os.path.split(i_session)[1]))\n",
    "if ix > 10:\n",
    "    print('...')"
   ]
  },
  {
   "cell_type": "markdown",
   "metadata": {},
   "source": [
    "### Convert TIFF files to ImageJ hyperstack files\n",
    "This cell calls the `mosaicToStack` function in `utils` through the ipyparallel `map_sync` method to make use of multiple cores."
   ]
  },
  {
   "cell_type": "code",
   "execution_count": null,
   "metadata": {
    "scrolled": false
   },
   "outputs": [],
   "source": [
    "stacked_files = dview.map_sync(utils.mosaicToStack, tiff_files, [n_planes]*len(tiff_files), [x_crop]*len(tiff_files))"
   ]
  },
  {
   "cell_type": "code",
   "execution_count": null,
   "metadata": {},
   "outputs": [],
   "source": [
    "print('Processing %1.0f files:' % (len(stacked_files)))\n",
    "print(*stacked_files[:10], sep='\\n')\n",
    "if len(stacked_files) > 10:\n",
    "    print('...')\n",
    "    print(*stacked_files[-5:], sep='\\n')"
   ]
  },
  {
   "cell_type": "markdown",
   "metadata": {},
   "source": [
    "### Join cropped TIF files\n",
    "Next, we create a large joined TIF file from individual cropped files. Further processing will be done on the joined file."
   ]
  },
  {
   "cell_type": "code",
   "execution_count": null,
   "metadata": {},
   "outputs": [],
   "source": [
    "n_groups = math.ceil(len(stacked_files) / float(max_group_size))\n",
    "files_per_group = math.ceil(len(stacked_files) / n_groups)\n",
    "stacked_files_by_group = []\n",
    "print('Processing files in %d groups' % (n_groups))\n",
    "for i_groups in range(int(n_groups)):\n",
    "    start_ix = int(i_groups * files_per_group)\n",
    "    stop_ix = int((i_groups+1) * files_per_group)\n",
    "    stacked_files_by_group.append(stacked_files[start_ix:stop_ix])\n",
    "    \n",
    "    print('Group %d (%d - %d): %d files' % (i_groups+1, start_ix, stop_ix, len(stacked_files[start_ix:stop_ix])))"
   ]
  },
  {
   "cell_type": "code",
   "execution_count": null,
   "metadata": {},
   "outputs": [],
   "source": [
    "joined_tif_list = []\n",
    "json_fname_list = []\n",
    "total_frames_list = []\n",
    "trial_indices_list = []\n",
    "for i_group, stacked_files_group in enumerate(stacked_files_by_group):\n",
    "    # load movies\n",
    "    movies = cm.load_movie_chain(stacked_files_group, is3D=True, outtype=np.int16)\n",
    "    \n",
    "    total_frames = movies.shape[0]\n",
    "    total_frames_list.append(total_frames)\n",
    "    n_planes = movies.shape[1]\n",
    "    dims = (movies.shape[2], movies.shape[3])\n",
    "    \n",
    "    frames_per_movie = dview.map_sync(utils.getFramesTif, stacked_files_group)\n",
    "    \n",
    "     # trial index for each frame\n",
    "    trial_indices = []\n",
    "    for i_frame, frame_count in enumerate(frames_per_movie):\n",
    "        trial_indices = trial_indices + [i_frame]*frame_count\n",
    "    trial_indices_list.append(trial_indices)\n",
    "    \n",
    "    for i_plane in range(n_planes):\n",
    "        # derive joined file name and save\n",
    "        joined_tif = '%s_%s_Join_G%d_F%d_P%d.tif' % (day_folder, area_folder, i_group, total_frames, i_plane)\n",
    "        imsave(os.path.join(working_data_folder, joined_tif), movies[:, i_plane, :, :])\n",
    "        print('Saved joined TIF file %s' % (joined_tif))\n",
    "    \n",
    "    movies = None # free the memory\n",
    "    \n",
    "    # create a Json file with information about source files\n",
    "    meta = {\"joined_file\": joined_tif.replace('_P%d.tif' % (i_plane), ''), \n",
    "            \"source_frames\": frames_per_movie, \n",
    "            \"source_file\": [x.replace(working_data_folder + os.path.sep,'') for x in stacked_files_group],\n",
    "            \"trial_index\": trial_indices,\n",
    "            \"frame_rate\": frame_rate,\n",
    "            \"z_planes\": n_planes\n",
    "           }\n",
    "    json_fname = joined_tif.replace('_P%d.tif' % (i_plane), '.json')\n",
    "    with open(os.path.join(working_data_folder, json_fname), 'w') as fid:\n",
    "        json.dump(meta, fid)\n",
    "    \n",
    "    # save output file names in list\n",
    "    joined_tif_list.append(joined_tif.replace('_P%d.tif' % (i_plane), ''))\n",
    "    json_fname_list.append(json_fname)\n",
    "    \n",
    "    print('Created JSON metadata file %s' % (json_fname))\n",
    "    \n",
    "# delete stacked TIF files (to save disk space)\n",
    "dummy = dview.map_sync(os.remove, stacked_files)"
   ]
  },
  {
   "cell_type": "markdown",
   "metadata": {},
   "source": [
    "### Motion correction"
   ]
  },
  {
   "cell_type": "markdown",
   "metadata": {},
   "source": [
    "First, setup the parameters for motion correction. The following parameters influence the **quality** of the motion correction:\n",
    "- niter_rig ... number of iterations for rigid registration (larger = better). Little improvement likely above 5-10.\n",
    "- strides ... intervals at which patches are laid out for motion correction (smaller = better)\n",
    "- overlaps ... overlap between patches\n",
    "\n",
    "Note that smaller values for strides / overlap will improve registration but also lead to NaNs in the output image. In general, there is a trade-off between the quality of registration and the presence / number of NaNs in the output (at least if there is significant motion)."
   ]
  },
  {
   "cell_type": "code",
   "execution_count": null,
   "metadata": {},
   "outputs": [],
   "source": [
    "# some parameters are derived directly from the data\n",
    "max_shifts = (int(np.round(dims[0]/10)), int(np.round(dims[1]/10)))  # maximum allow rigid shift\n",
    "\n",
    "# the rest are read from the config\n",
    "for key in config['mc']:\n",
    "    if isinstance(config['mc'][key], (list,)):\n",
    "        # replace 'None' strings in lists with None\n",
    "        config['mc'][key] = [None if x == 'None' else x for x in config['mc'][key]]\n",
    "    elif isinstance(config['mc'][key], (str,)) and config['mc'][key] == 'None':\n",
    "        config['mc'][key] = None"
   ]
  },
  {
   "cell_type": "code",
   "execution_count": null,
   "metadata": {},
   "outputs": [],
   "source": [
    "# parameters for motion correction\n",
    "opts_dict = {\n",
    "    # number of iterations rigid\n",
    "    'niter_rig': config['mc']['niter_rig'],\n",
    "    # run piecewise-rigid registration?\n",
    "    'pw_rigid': config['mc']['pw_rigid'],\n",
    "    'max_shifts': max_shifts,  # maximum allow rigid shift\n",
    "    # for parallelization split the movies in num_splits chuncks across time\n",
    "    'splits_rig': config['mc']['splits_rig'],\n",
    "    # if none all the splits are processed and the movie is saved\n",
    "    'num_splits_to_process_rig': config['mc']['num_splits_to_process_rig'],\n",
    "    # intervals at which patches are laid out for motion correction\n",
    "    'strides': config['mc']['strides'],\n",
    "    # overlap between patches (size of patch strides+overlaps)\n",
    "    'overlaps': config['mc']['overlaps'],\n",
    "    # for parallelization split the movies in num_splits chuncks across time\n",
    "    'splits_els': config['mc']['splits_els'],\n",
    "    # if none all the splits are processed and the movie is saved\n",
    "    'num_splits_to_process_els': config['mc']['num_splits_to_process_els'],\n",
    "    'upsample_factor_grid': config['mc']['upsample_factor_grid'],  # upsample factor to avoid smearing when merging patches\n",
    "    # maximum deviation allowed for patch with respect to rigid shift\n",
    "    'max_deviation_rigid': config['mc']['max_deviation_rigid'],\n",
    "    # Specifies how to deal with borders. (True, False, 'copy', 'min')\n",
    "    'border_nan': config['mc']['border_nan'],\n",
    "}\n",
    "opts = params.CNMFParams(params_dict=opts_dict)"
   ]
  },
  {
   "cell_type": "markdown",
   "metadata": {},
   "source": [
    "There are also some parameters for computing the quality metrics. These probably don't have to be changed."
   ]
  },
  {
   "cell_type": "code",
   "execution_count": null,
   "metadata": {},
   "outputs": [],
   "source": [
    "# parameters for computing metrics\n",
    "winsize = config['metrics']['winsize']\n",
    "swap_dim = config['metrics']['swap_dim']\n",
    "resize_fact_flow = config['metrics']['resize_fact_flow']    # downsample for computing ROF\n",
    "iters_flow = config['metrics']['iters_flow'] # iterations for calculation of optic flow"
   ]
  },
  {
   "cell_type": "markdown",
   "metadata": {},
   "source": [
    "Next, we define some functions. See the function doc strings for further information."
   ]
  },
  {
   "cell_type": "markdown",
   "metadata": {},
   "source": [
    "Now we are ready to run motion correction for the joined TIF file. If there are a lot of concatenated trials, this might take a while to complete.\n",
    "\n",
    "The following outputs will be saved:\n",
    "- result of rigid motion correction in Python mmap format and as TIF file\n",
    "- result of pw-rigid motion correction in Python mmap format and as TIF file"
   ]
  },
  {
   "cell_type": "markdown",
   "metadata": {},
   "source": [
    "### Run the motion correction\n",
    "Next, we run the MC. This can be time consuming for large datasets."
   ]
  },
  {
   "cell_type": "code",
   "execution_count": null,
   "metadata": {
    "scrolled": false
   },
   "outputs": [],
   "source": [
    "t_start = time.time()\n",
    "mc_list = []\n",
    "for ix_file, i_file in enumerate(joined_tif_list):\n",
    "    mc_list.append([])\n",
    "    for i_plane in range(n_planes):\n",
    "        fname = os.path.join(working_data_folder, i_file + '_P%d.tif' % (i_plane))\n",
    "        \n",
    "        if opts.get('motion', 'pw_rigid'):\n",
    "            opts.set('motion', {'pw_rigid': False})\n",
    "            mc = MotionCorrect(fname, dview=dview, **opts.get_group('motion'))\n",
    "            mc.motion_correct(save_movie=True)\n",
    "            fname_rig = mc.fname_tot_rig\n",
    "            opts.set('motion', {'pw_rigid': True})\n",
    "        \n",
    "        mc = MotionCorrect(fname, dview=dview, **opts.get_group('motion'))\n",
    "        mc.motion_correct(save_movie=True)\n",
    "        \n",
    "        if opts.get('motion', 'pw_rigid'):\n",
    "            mc.fname_tot_rig = fname_rig\n",
    "        \n",
    "        # save TIF files\n",
    "        imsave(mc.fname_tot_rig[0].replace('.mmap', '.tif'), cm.load(mc.fname_tot_rig[0]))\n",
    "        if opts.get('motion', 'pw_rigid'):\n",
    "            imsave(mc.fname_tot_els[0].replace('.mmap', '.tif'), cm.load(mc.fname_tot_els[0]))\n",
    "        \n",
    "        mc_list[ix_file].append(mc)\n",
    "        print('Finished MC for %s - Plane %d of %d' % (i_file, i_plane+1, n_planes))\n",
    "\n",
    "# print elapsed time\n",
    "t_elapsed = time.time() - t_start\n",
    "print('\\nFinished MC in %1.2f s (%1.2f s per frame)' % (t_elapsed, t_elapsed/(sum(total_frames_list)*n_planes)))"
   ]
  },
  {
   "cell_type": "markdown",
   "metadata": {},
   "source": [
    "### Assess quality of motion correction\n",
    "A number of key metrics can be calculated to assess how much motion correction improved overall motion. \n",
    "1. Correlation\n",
    "Correlations of each frame with the template image (binned median) for original, rigid correction and pw-rigid correction. The mean correlation gives an overall impression of motion. The minimum correlation indicates the parts of the movie that are worst affected by motion. Larger correlations indicate less motion.\n",
    "2. Crispness\n",
    "Crispness provides a measure of the smoothness of the corrected average image. Intuitively, a dataset with nonregistered motion will have a blurred mean image, resulting in a lower value for the total gradient field norm. Thus, larger values indicate a crisper average image and less residual motion. Crispness is calculated from the gradient field of the mean image (`np.gradient`).\n",
    "3. Residual optical flow\n",
    "Optic flow algorithms attempt to match each frame to the template by estimating locally smooth displacement fields. The output is an image where each pixel described the local displacement between template and frame at this point. The smaller the local displacement, the better the registration. Here we compute the matrix norm of the optic flow matrix as summary statistic."
   ]
  },
  {
   "cell_type": "code",
   "execution_count": null,
   "metadata": {},
   "outputs": [],
   "source": [
    "# compute quality assessment metrics\n",
    "crispness = []\n",
    "norms = []\n",
    "corr_mean = []\n",
    "corr_min = []\n",
    "metrics = []\n",
    "metrics_files = []\n",
    "for i_group in range(n_groups):\n",
    "    crispness.append([])\n",
    "    norms.append([])\n",
    "    corr_mean.append([])\n",
    "    corr_min.append([])\n",
    "    metrics.append([])\n",
    "    mc_group = mc_list[i_group]\n",
    "    \n",
    "    # remove Pool object (required for parallel processing)\n",
    "    for ix, i_mc in enumerate(mc_group):\n",
    "        i_mc.dview = None\n",
    "        mc_group[ix] = i_mc\n",
    "    \n",
    "    metrics_list = dview.map_sync(mc_utils.computeMetrics, mc_group, [swap_dim]*len(mc_group), [winsize]*len(mc_group), \n",
    "                           [resize_fact_flow]*len(mc_group), [iters_flow]*len(mc_group))\n",
    "    \n",
    "    # collect results\n",
    "    for mtrs in metrics_list:\n",
    "        metrics[i_group].append(mtrs)\n",
    "        if opts.get('motion', 'pw_rigid'):\n",
    "            # correlations, crispness and norms of residual optic flow as indicators of registration quality\n",
    "            crispness[i_group].append(np.array([mtrs['crispness_orig'], mtrs['crispness_rig'], mtrs['crispness_els']]))\n",
    "            norms[i_group].append(np.array([np.mean(mtrs['norms_orig']), np.mean(mtrs['norms_rig']), np.mean(mtrs['norms_els'])]))\n",
    "            corr_mean[i_group].append(np.array([np.mean(mtrs['corr_orig']), np.mean(mtrs['corr_rig']), np.mean(mtrs['corr_els'])]))\n",
    "            corr_min[i_group].append(np.array([np.min(mtrs['corr_orig']), np.min(mtrs['corr_rig']), np.min(mtrs['corr_els'])]))\n",
    "        else:\n",
    "            crispness[i_group].append(np.array([mtrs['crispness_orig'], mtrs['crispness_rig']]))\n",
    "            norms[i_group].append(np.array([np.mean(mtrs['norms_orig']), np.mean(mtrs['norms_rig'])]))\n",
    "            corr_mean[i_group].append(np.array([np.mean(mtrs['corr_orig']), np.mean(mtrs['corr_rig'])]))\n",
    "            corr_min[i_group].append(np.array([np.min(mtrs['corr_orig']), np.min(mtrs['corr_rig'])]))\n",
    "            \n",
    "    # save results\n",
    "    metrics_files.append(json_fname_list[i_group].replace('.json', '_MC_metrics.npy'))\n",
    "    np.save(os.path.join(working_data_folder, metrics_files[i_group]), \n",
    "            [metrics[i_group], crispness[i_group], norms[i_group], corr_mean[i_group], corr_min[i_group]])\n",
    "\n",
    "clear_output()"
   ]
  },
  {
   "cell_type": "markdown",
   "metadata": {},
   "source": [
    "Print different metrics for raw movie and rigid / pw-rigid corrected movies."
   ]
  },
  {
   "cell_type": "code",
   "execution_count": null,
   "metadata": {},
   "outputs": [],
   "source": [
    "for i_group in range(n_groups):\n",
    "    for i_plane in range(n_planes):\n",
    "        print('MC evaluation - Group %d - Plane %d:' % (i_group, i_plane))\n",
    "        mc_utils.printMetrics(corr_mean[i_group][i_plane], corr_min[i_group][i_plane], crispness[i_group][i_plane], norms[i_group][i_plane])\n",
    "        print('\\n')"
   ]
  },
  {
   "cell_type": "markdown",
   "metadata": {},
   "source": [
    "### Create a log for downstream analysis\n",
    "Add important information to the config dictionary and save it."
   ]
  },
  {
   "cell_type": "code",
   "execution_count": null,
   "metadata": {},
   "outputs": [],
   "source": [
    "mc_log = dict()\n",
    "mc_log['config'] = config\n",
    "mc_log['data_folder'] = data_folder\n",
    "mc_log['working_data_folder'] = working_data_folder\n",
    "mc_log['n_groups'] = n_groups\n",
    "mc_log['n_planes'] = n_planes\n",
    "mc_log['tiff_files'] = tiff_files\n",
    "mc_log['joined_tif_list'] = joined_tif_list\n",
    "mc_log['json_fname_list'] = json_fname_list\n",
    "mc_log['metrics_files'] = metrics_files\n",
    "mc_log['stacked_files_by_group'] = stacked_files_by_group\n",
    "mc_log['total_frames_list'] = total_frames_list\n",
    "mc_log['trial_indices_list'] = trial_indices_list\n",
    "\n",
    "# file names of mmap files\n",
    "mmap_files_rig = []\n",
    "mmap_files_els = []\n",
    "for i_group in range(n_groups):\n",
    "    mmap_files_rig.append([])\n",
    "    mmap_files_els.append([])\n",
    "    for i_plane in range(n_planes):\n",
    "        mmap_files_rig[i_group].append(os.path.basename(mc_list[i_group][i_plane].fname_tot_rig[0]))\n",
    "        if config['mc']['pw_rigid']:\n",
    "            mmap_files_els[i_group].append(os.path.basename(mc_list[i_group][i_plane].fname_tot_els[0]))\n",
    "\n",
    "mc_log['mmap_files_rig'] = mmap_files_rig\n",
    "if config['mc']['pw_rigid']:\n",
    "    mc_log['mmap_files_els'] = mmap_files_els\n",
    "            \n",
    "with open(os.path.join(working_data_folder, 'caiman_mc_log.yml'), 'w') as outfile:\n",
    "    yaml.dump(mc_log, outfile, default_flow_style=True)"
   ]
  },
  {
   "cell_type": "markdown",
   "metadata": {},
   "source": [
    "### Copy back results and delete the temporary folder\n",
    "If copying fails for any reason (e.g. no more disk space), we can still recover the results from the temporary folder."
   ]
  },
  {
   "cell_type": "code",
   "execution_count": null,
   "metadata": {},
   "outputs": [],
   "source": [
    "if copy_to_temp:\n",
    "    t_start = time.time()\n",
    "    file_types_to_copy = ['.tif', '.npz', '.npy', '.json', '.mmap', '.yml']\n",
    "    files_to_copy = []\n",
    "    for file_type in file_types_to_copy:\n",
    "        file_list = [x for x in os.listdir(working_data_folder) if not os.path.isdir(x) and x.endswith(file_type)]\n",
    "        files_to_copy = files_to_copy + file_list\n",
    "    out = dview.map_sync(utils.copyFiles, [os.path.join(working_data_folder, x) for x in files_to_copy], \n",
    "                         [os.path.join(data_folder, x) for x in files_to_copy])\n",
    "    print('\\nFinished copying in %1.2f s' % (time.time()-t_start))\n",
    "    # delete the temp. dir\n",
    "    shutil.rmtree(temp_dir)"
   ]
  },
  {
   "cell_type": "markdown",
   "metadata": {},
   "source": [
    "### Stop the cluster"
   ]
  },
  {
   "cell_type": "code",
   "execution_count": null,
   "metadata": {},
   "outputs": [],
   "source": [
    "%%bash\n",
    "source /opt/Anaconda3-5.1.0-Linux-x86_64/bin/activate caiman || source activate caiman\n",
    "ipcluster stop\n",
    "sleep 1"
   ]
  },
  {
   "cell_type": "code",
   "execution_count": null,
   "metadata": {},
   "outputs": [],
   "source": []
  }
 ],
 "metadata": {
  "celltoolbar": "Tags",
  "kernelspec": {
   "display_name": "caiman",
   "language": "python",
   "name": "caiman"
  },
  "language_info": {
   "codemirror_mode": {
    "name": "ipython",
    "version": 3
   },
   "file_extension": ".py",
   "mimetype": "text/x-python",
   "name": "python",
   "nbconvert_exporter": "python",
   "pygments_lexer": "ipython3",
   "version": "3.6.7"
  }
 },
 "nbformat": 4,
 "nbformat_minor": 2
}
