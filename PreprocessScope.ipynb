{
 "cells": [
  {
   "cell_type": "code",
   "execution_count": null,
   "metadata": {},
   "outputs": [],
   "source": [
    "# Imports\n",
    "import os\n",
    "import numpy as np\n",
    "from tifffile import imread, imsave\n",
    "import xml.etree.ElementTree as ET"
   ]
  },
  {
   "cell_type": "code",
   "execution_count": null,
   "metadata": {},
   "outputs": [],
   "source": [
    "# Import CaImAn and custom functions\n",
    "import caiman as cm\n",
    "import utils"
   ]
  },
  {
   "cell_type": "code",
   "execution_count": null,
   "metadata": {},
   "outputs": [],
   "source": [
    "data_folder = '/Users/Henry/Data/temp/Dendrites_Gwen/M3_October_2018'\n",
    "day_folder = 'M3_2018-10-02'\n",
    "area_folder = 'S1'\n",
    "sessions = [\n",
    "    '09-21-02_Live',\n",
    "    '09-21-16_Live',\n",
    "    '09-21-28_Live',\n",
    "    '09-21-40_Live',\n",
    "    '09-21-52_Live',\n",
    "]\n",
    "sessions = None # either specify selected sessions as list (e.g. ['09-21-02_Live','09-21-16_Live',]) or use None for all sessions\n",
    "max_sessions = 9999 # restrict number of sessions to process"
   ]
  },
  {
   "cell_type": "code",
   "execution_count": null,
   "metadata": {},
   "outputs": [],
   "source": [
    "n_processes = 4 # number of parallel processes (None to select automatically)"
   ]
  },
  {
   "cell_type": "code",
   "execution_count": null,
   "metadata": {},
   "outputs": [],
   "source": [
    "# create list of sessions to process\n",
    "if sessions is not None:\n",
    "    sessions = [os.path.join(data_folder, day_folder, area_folder, x) \n",
    "                for (i,x) in enumerate(sessions) if i < max_sessions]\n",
    "else:\n",
    "    sessions = sorted([os.path.join(data_folder, day_folder, area_folder, x) \n",
    "                       for x in os.listdir(os.path.join(data_folder, day_folder, area_folder)) \n",
    "                       if x.endswith('_Live')])[:max_sessions]"
   ]
  },
  {
   "cell_type": "code",
   "execution_count": null,
   "metadata": {},
   "outputs": [],
   "source": [
    "tiff_files = []\n",
    "xml_files = []\n",
    "for i_session in sessions:\n",
    "    tiff_files.append([os.path.join(i_session, x) for x in os.listdir(i_session) if x.endswith('.tif') and not 'stacked' in x][0])\n",
    "    xml_files.append([os.path.join(i_session, x) for x in os.listdir(i_session) if 'parameters.xml' in x][0])"
   ]
  },
  {
   "cell_type": "code",
   "execution_count": null,
   "metadata": {},
   "outputs": [],
   "source": [
    "# read frame rate from parameters.xml \n",
    "for ix, i_session in enumerate(sessions):\n",
    "    tree = ET.parse(xml_files[ix])\n",
    "    root = tree.getroot()\n",
    "    for child in root:\n",
    "        if child.tag == 'area0': # Note: only area 0!\n",
    "            fr = child.find('Framerate_Hz')\n",
    "            frame_rate = float(fr.text)\n",
    "    if ix <= 10:\n",
    "        print('Frame rate: %1.4f Hz (%s)' % (frame_rate, os.path.split(i_session)[1]))\n",
    "if ix > 10:\n",
    "    print('...')"
   ]
  },
  {
   "cell_type": "markdown",
   "metadata": {},
   "source": [
    "### Convert mosaic shaped movies to stacked movies"
   ]
  },
  {
   "cell_type": "code",
   "execution_count": null,
   "metadata": {},
   "outputs": [],
   "source": [
    "def mosaic_to_stack(mov, n_planes, x_crop):\n",
    "    '''\n",
    "    Convert movie with multiple planes as mosaic (TYX) to ImageJ hyperstack (TZCYXS order)\n",
    "    mov ... movie as numpy array\n",
    "    n_planes ... number of planes in Y\n",
    "    x_crop ... number of pixels to crop in x\n",
    "    \n",
    "    Return: stacked movie (ImageJ hyperstack)\n",
    "    '''\n",
    "    \n",
    "    # check if the number of planes matches the shape of the movie\n",
    "    if mov.shape[1] % n_planes:\n",
    "        raise Exception('Number of rows in movie must be divisible by number of planes!')\n",
    "    rows_per_plane = int(mov.shape[1]/n_planes)\n",
    "    \n",
    "    # stack planes\n",
    "    plane_list = []\n",
    "    for ix in range(n_planes):\n",
    "        plane_list.append(mov[:,ix*rows_per_plane:(ix+1)*rows_per_plane,:x_crop])\n",
    "        plane_list[ix] = plane_list[ix][None, ...]\n",
    "        \n",
    "    stacked = np.vstack(tuple(plane_list)).swapaxes(0, 1)\n",
    "    # add dimension for channel\n",
    "    stacked = stacked[:,:,None,:,:]\n",
    "    \n",
    "    return stacked"
   ]
  },
  {
   "cell_type": "code",
   "execution_count": null,
   "metadata": {},
   "outputs": [],
   "source": [
    "# start the cluster (if a cluster already exists terminate it)\n",
    "if 'dview' in locals():\n",
    "    dview.terminate()\n",
    "c, dview, n_processes = cm.cluster.setup_cluster(\n",
    "    backend='local', n_processes=n_processes, single_thread=False)"
   ]
  },
  {
   "cell_type": "code",
   "execution_count": null,
   "metadata": {},
   "outputs": [],
   "source": [
    "%%time\n",
    "n_planes = 3 # number of planes in movie\n",
    "x_crop = 0.5 # fraction of x pixels to crop (i.e. 0.5 for half)\n",
    "for i_file in tiff_files:\n",
    "    utils.mosaic_to_stack(i_file, n_planes, x_crop)"
   ]
  },
  {
   "cell_type": "code",
   "execution_count": null,
   "metadata": {},
   "outputs": [],
   "source": [
    "%%time\n",
    "dview.starmap(utils.mosaic_to_stack, [(x, n_planes, x_crop) for x in tiff_files])"
   ]
  },
  {
   "cell_type": "code",
   "execution_count": null,
   "metadata": {},
   "outputs": [],
   "source": []
  }
 ],
 "metadata": {
  "kernelspec": {
   "display_name": "caiman",
   "language": "python",
   "name": "caiman"
  },
  "language_info": {
   "codemirror_mode": {
    "name": "ipython",
    "version": 3
   },
   "file_extension": ".py",
   "mimetype": "text/x-python",
   "name": "python",
   "nbconvert_exporter": "python",
   "pygments_lexer": "ipython3",
   "version": "3.6.6"
  }
 },
 "nbformat": 4,
 "nbformat_minor": 2
}
