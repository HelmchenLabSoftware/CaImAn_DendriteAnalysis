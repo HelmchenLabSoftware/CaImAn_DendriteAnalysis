{
 "cells": [
  {
   "cell_type": "markdown",
   "metadata": {},
   "source": [
    "## Run CNMF source extraction on movies\n",
    "Step 2 of the Caiman processing pipeline for dendritic two-photon calcium imaging movies. This part uses mmap files as input. These are created during motion correction with the Caiman toolbox (see `01_Preprocess_MC_3D.ipynb`). "
   ]
  },
  {
   "cell_type": "markdown",
   "metadata": {},
   "source": [
    "### Imports & Setup\n",
    "The first cells import the various Python modules required by the notebook. In particular, a number of modules are imported from the Caiman package. In addition, we also setup the environment so that everything works as expected."
   ]
  },
  {
   "cell_type": "code",
   "execution_count": null,
   "metadata": {},
   "outputs": [],
   "source": [
    "# Generic imports\n",
    "# from __future__ import absolute_import, division, print_function\n",
    "# from builtins import *\n",
    "\n",
    "import os, platform, glob, sys, re\n",
    "import fnmatch\n",
    "import json\n",
    "import numpy as np\n",
    "import matplotlib.pyplot as plt\n",
    "from scipy.io import savemat\n",
    "\n",
    "from IPython.display import clear_output\n",
    "\n",
    "# Import Bokeh library\n",
    "import bokeh.plotting as plotting\n",
    "from bokeh.plotting import Figure, show\n",
    "from bokeh.layouts import gridplot\n",
    "from bokeh.models import Range1d, CrosshairTool, HoverTool, Legend\n",
    "from bokeh.io import output_notebook, export_svgs\n",
    "from bokeh.models.sources import ColumnDataSource\n",
    "\n",
    "%matplotlib inline"
   ]
  },
  {
   "cell_type": "code",
   "execution_count": null,
   "metadata": {},
   "outputs": [],
   "source": [
    "# This has to be in a separate cell, otherwise it wont work.\n",
    "from bokeh import resources\n",
    "output_notebook(resources=resources.INLINE)"
   ]
  },
  {
   "cell_type": "code",
   "execution_count": null,
   "metadata": {},
   "outputs": [],
   "source": [
    "# on Linux we have to add the caiman folder to Pythonpath\n",
    "if platform.system() == 'Linux':\n",
    "    sys.path.append(os.path.expanduser('~/caiman'))\n",
    "# environment variables for parallel processing\n",
    "os.environ['MKL_NUM_THREADS']='1'\n",
    "os.environ['OPENBLAS_NUM_THREADS']='1'\n",
    "os.environ['VECLIB_MAXIMUM_THREADS']='1'"
   ]
  },
  {
   "cell_type": "code",
   "execution_count": null,
   "metadata": {},
   "outputs": [],
   "source": [
    "# CaImAn imports\n",
    "import caiman as cm\n",
    "from caiman.source_extraction.cnmf import cnmf as cnmf\n",
    "from caiman.source_extraction.cnmf import params as params\n",
    "from caiman.components_evaluation import estimate_components_quality as estimate_q\n",
    "from caiman.components_evaluation import estimate_components_quality_auto\n",
    "from caiman.utils.visualization import plot_contours, nb_view_patches, nb_plot_contour\n",
    "from caiman.source_extraction.cnmf import utilities as cnmf_utils\n",
    "import caiman_utils as cm_utils"
   ]
  },
  {
   "cell_type": "code",
   "execution_count": null,
   "metadata": {},
   "outputs": [],
   "source": [
    "from importlib import reload\n",
    "reload(cm_utils)"
   ]
  },
  {
   "cell_type": "markdown",
   "metadata": {},
   "source": [
    "### Select files\n",
    "The following need to be specified:\n",
    "- data_folder ... location of the data (relative to ~/Data)\n",
    "- mc_output ... select if output of rigid ('rig') or piece-wise rigid ('els') motion correction should be used (currently only 'rig' is tested and works)\n",
    "- max_files ... maximum number of files to process, e.g. for testing (if 0, all files will be processed)"
   ]
  },
  {
   "cell_type": "code",
   "execution_count": null,
   "metadata": {},
   "outputs": [],
   "source": [
    "animal_folder = 'M3_October_2018'\n",
    "date_folder = 'M3_2018-10-02'\n",
    "session_folder = 'S1'\n",
    "group_id = 'G0'\n",
    "\n",
    "mc_output = 'rig'\n",
    "remove_bad_frames = True # remove bad frames specified in Json file\n",
    "\n",
    "# create the complete path to the data folder\n",
    "if platform.system() == 'Linux':\n",
    "    data_folder = '/home/ubuntu/Data'\n",
    "elif platform.system() == 'Darwin':\n",
    "    data_folder = '/Users/Henry/Data/temp/Dendrites_Gwen'\n",
    "data_folder = os.path.join(data_folder, animal_folder, date_folder, session_folder)"
   ]
  },
  {
   "cell_type": "code",
   "execution_count": null,
   "metadata": {},
   "outputs": [],
   "source": [
    "# select the mmap file created during motion correction\n",
    "all_files = os.listdir(data_folder)\n",
    "mmap_files = sorted([x for x in all_files if x.startswith('%s_%s' % (date_folder, session_folder)) \n",
    "           and x.endswith('.mmap') and mc_output in x and group_id in x])\n",
    "n_planes = len(mmap_files)\n",
    "\n",
    "print('Found %d mmap files. Check allocation to planes!' % (n_planes))\n",
    "for i_plane in range(n_planes):\n",
    "    print('Plane %d: %s' % (i_plane, mmap_files[i_plane]))"
   ]
  },
  {
   "cell_type": "code",
   "execution_count": null,
   "metadata": {},
   "outputs": [],
   "source": [
    "mmap_files = [os.path.join(data_folder, x) for x in mmap_files]\n",
    "# get metadata\n",
    "for file in os.listdir(data_folder):\n",
    "    if fnmatch.fnmatch(file, '%s_%s_Join_%s_*[!badFrames].json' % (date_folder, session_folder, group_id)):\n",
    "        meta = json.load(open(os.path.join(data_folder,file)))\n",
    "        break\n",
    "trial_index = np.array(meta['trial_index'])\n",
    "frame_rate = meta['frame_rate'] / n_planes"
   ]
  },
  {
   "cell_type": "markdown",
   "metadata": {},
   "source": [
    "### Load data and remove bad frames"
   ]
  },
  {
   "cell_type": "code",
   "execution_count": null,
   "metadata": {},
   "outputs": [],
   "source": [
    "fname_list = []\n",
    "images_list = []\n",
    "for fname in mmap_files:\n",
    "    Yr, dims = cm_utils.loadData(fname)\n",
    "    bad_frames, images, Y, fname_rem = cm_utils.removeBadFrames(fname, trial_index, Yr, dims, remove_bad_frames, data_folder)\n",
    "    fname_list.append(fname_rem)\n",
    "    images_list.append(images)"
   ]
  },
  {
   "cell_type": "markdown",
   "metadata": {},
   "source": [
    "### Display frame average for each plane"
   ]
  },
  {
   "cell_type": "code",
   "execution_count": null,
   "metadata": {},
   "outputs": [],
   "source": [
    "plt.figure(figsize=(30,60))\n",
    "for ix_plane in range(n_planes):\n",
    "    avg_img = np.mean(images_list[ix_plane],axis=0)\n",
    "    plt.subplot(1,n_planes,ix_plane+1)\n",
    "    plt.imshow(avg_img, cmap='gray'), plt.title('Frame average - Plane %d' % (ix_plane));"
   ]
  },
  {
   "cell_type": "markdown",
   "metadata": {},
   "source": [
    "### Specify if plane contains dendritic signals\n",
    "CaImAn uses different initialization methods depending on whether the signals are dendritic or somatic. Therefore, we need to specify the types of signal expected in each plane."
   ]
  },
  {
   "cell_type": "code",
   "execution_count": null,
   "metadata": {},
   "outputs": [],
   "source": [
    "is_dendritic = [True, False, True]"
   ]
  },
  {
   "cell_type": "markdown",
   "metadata": {},
   "source": [
    "### Setup cluster\n",
    "The default backend mode for parallel processing is through the multiprocessing package. This will allow us to use all the cores in the VM."
   ]
  },
  {
   "cell_type": "code",
   "execution_count": null,
   "metadata": {},
   "outputs": [],
   "source": [
    "# start the cluster (if a cluster already exists terminate it)\n",
    "n_processes = 8 # number of compute processes (None to select automatically)\n",
    "if 'dview' in locals() and dview is not None:\n",
    "    dview.terminate()\n",
    "c, dview, n_processes = cm.cluster.setup_cluster(\n",
    "    backend='local', n_processes=n_processes, single_thread=False)"
   ]
  },
  {
   "cell_type": "markdown",
   "metadata": {},
   "source": [
    "### Parameters for source extraction\n",
    "Next, we define the important parameters for calcium source extraction. These parameters will have to be iteratively refined for the respective datasets.\n"
   ]
  },
  {
   "cell_type": "markdown",
   "metadata": {},
   "source": [
    "#### Spring 2018 Parameter (dendritic)"
   ]
  },
  {
   "cell_type": "code",
   "execution_count": null,
   "metadata": {},
   "outputs": [],
   "source": [
    "# parameters for source extraction and deconvolution\n",
    "# decay_time = 0.4            # length of a typical transient in seconds\n",
    "# p = 1                       # order of the autoregressive system (normally 1, 2 for fast indicators / imaging)\n",
    "# gnb = 2                     # number of global background components\n",
    "# merge_thresh = 0.8          # merging threshold, max correlation allowed\n",
    "# rf = 10                     # half-size of the patches in pixels. e.g., if rf=25, patches are 50x50 / None: no patches\n",
    "# stride_cnmf = 5             # amount of overlap between the patches in pixels\n",
    "# K = None                    # number of components per patch (usually None)\n",
    "# gSig = [4, 4]               # expected half size of neurons\n",
    "# method_init = 'sparse_nmf'  # initialization method (if analyzing dendritic data use 'sparse_nmf')\n",
    "# is_dendrites = True         # flag for analyzing dendritic data\n",
    "# #alpha_snmf = 10e2           # sparsity penalty for dendritic data analysis through sparse NMF\n",
    "# alpha_snmf = 1e-6\n",
    "\n",
    "# method_deconvolution='oasis'# deconvolution method (oasis or cvxpy)\n",
    "\n",
    "# # parameters for component evaluation\n",
    "# min_SNR = 2.5               # signal to noise ratio for accepting a component\n",
    "# rval_thr = 0.8              # space correlation threshold for accepting a component\n",
    "# use_cnn = False             # whether to use CNN to filter components\n",
    "# cnn_thr = 0.8               # threshold for CNN based classifier\n",
    "\n",
    "# final_rate = frame_rate             # final frame rate in Hz"
   ]
  },
  {
   "cell_type": "markdown",
   "metadata": {},
   "source": [
    "#### Autumn 2018 Parameter"
   ]
  },
  {
   "cell_type": "code",
   "execution_count": null,
   "metadata": {},
   "outputs": [],
   "source": [
    "# dataset dependent parameters\n",
    "decay_time = 0.4                            # length of a typical transient in seconds\n",
    "\n",
    "# parameters for source extraction and deconvolution\n",
    "p = 1                       # order of the autoregressive system\n",
    "gnb = 2                     # number of global background components\n",
    "merge_thresh = 0.8          # merging threshold, max correlation allowed\n",
    "rf = 25                     # half-size of the patches in pixels. e.g., if rf=25, patches are 50x50\n",
    "stride_cnmf = 10             # amount of overlap between the patches in pixels\n",
    "K = 20                       # number of components per patch\n",
    "gSig = [4, 4]               # expected half size of neurons in pixels\n",
    "\n",
    "method_init = 'sparse_nmf'  # initialization method (if analyzing dendritic data use 'sparse_nmf', else 'greedy_roi')\n",
    "#alpha_snmf = 10e2           # sparsity penalty for dendritic data analysis through sparse NMF\n",
    "alpha_snmf = 100\n",
    "normalize_init = True      # default is True\n",
    "\n",
    "ssub = 1                    # spatial subsampling during initialization\n",
    "tsub = 1                    # temporal subsampling during intialization\n",
    "\n",
    "# parameters for component evaluation\n",
    "min_SNR = 2.0               # signal to noise ratio for accepting a component\n",
    "rval_thr = 0.85              # space correlation threshold for accepting a component\n",
    "cnn_thr = 0.99              # threshold for CNN based classifier\n",
    "cnn_lowest = 0.1 # neurons with cnn probability lower than this value are rejected"
   ]
  },
  {
   "cell_type": "code",
   "execution_count": null,
   "metadata": {},
   "outputs": [],
   "source": [
    "# create Parameters object\n",
    "# unspecified parameters get default values\n",
    "opts_dict = {'fnames': fname_rem,\n",
    "            'fr': frame_rate,\n",
    "            'decay_time': decay_time,\n",
    "            'p': 1,\n",
    "            'nb': gnb,\n",
    "            'rf': rf,\n",
    "            'K': K, \n",
    "            'stride': stride_cnmf,\n",
    "            'method_init': method_init,\n",
    "            'alpha_snmf': alpha_snmf,\n",
    "             'normalize_init': normalize_init,\n",
    "            'rolling_sum': True,\n",
    "            'only_init': True,\n",
    "            'ssub': ssub,\n",
    "            'tsub': tsub,\n",
    "            'min_SNR': min_SNR,\n",
    "            'rval_thr': rval_thr,\n",
    "            'use_cnn': True,\n",
    "            'min_cnn_thr': cnn_thr,\n",
    "            'cnn_lowest': cnn_lowest}\n",
    "\n",
    "opts = params.CNMFParams(params_dict=opts_dict)"
   ]
  },
  {
   "cell_type": "markdown",
   "metadata": {},
   "source": [
    "To get a dict with all parameters, use `opts.to_dict()`"
   ]
  },
  {
   "cell_type": "markdown",
   "metadata": {},
   "source": [
    "#### Run CNMF on patches"
   ]
  },
  {
   "cell_type": "code",
   "execution_count": 51,
   "metadata": {},
   "outputs": [
    {
     "data": {
      "text/plain": [
       "{'data': {'fnames': ['/Users/Henry/Data/temp/Dendrites_Gwen/M3_October_2018/M3_2018-10-02/S1/removedFrames_d1_109_d2_508_d3_1_order_C_frames_1094_.mmap'],\n",
       "  'dims': (109, 508),\n",
       "  'fr': 10.3898,\n",
       "  'decay_time': 0.4,\n",
       "  'dxy': (1, 1)},\n",
       " 'spatial_params': {'block_size_spat': 5000,\n",
       "  'dist': 3,\n",
       "  'expandCore': array([[0, 0, 1, 0, 0],\n",
       "         [0, 1, 1, 1, 0],\n",
       "         [1, 1, 1, 1, 1],\n",
       "         [0, 1, 1, 1, 0],\n",
       "         [0, 0, 1, 0, 0]]),\n",
       "  'extract_cc': True,\n",
       "  'maxthr': 0.1,\n",
       "  'medw': (3, 3),\n",
       "  'method_exp': 'dilate',\n",
       "  'method_ls': 'lasso_lars',\n",
       "  'n_pixels_per_process': 55372,\n",
       "  'nb': 2,\n",
       "  'normalize_yyt_one': True,\n",
       "  'nrgthr': 0.9999,\n",
       "  'num_blocks_per_run_spat': 20,\n",
       "  'se': array([[1, 1, 1],\n",
       "         [1, 1, 1],\n",
       "         [1, 1, 1]], dtype=uint8),\n",
       "  'ss': array([[1, 1, 1],\n",
       "         [1, 1, 1],\n",
       "         [1, 1, 1]], dtype=uint8),\n",
       "  'thr_method': 'nrg',\n",
       "  'update_background_components': True},\n",
       " 'temporal_params': {'ITER': 2,\n",
       "  'bas_nonneg': False,\n",
       "  'block_size_temp': 5000,\n",
       "  'fudge_factor': 0.96,\n",
       "  'lags': 5,\n",
       "  'memory_efficient': False,\n",
       "  'method_deconvolution': 'oasis',\n",
       "  'nb': 2,\n",
       "  'noise_method': 'mean',\n",
       "  'noise_range': [0.25, 0.5],\n",
       "  'num_blocks_per_run_temp': 20,\n",
       "  'p': 0,\n",
       "  's_min': None,\n",
       "  'solvers': ['ECOS', 'SCS'],\n",
       "  'verbosity': False},\n",
       " 'init_params': {'K': 20,\n",
       "  'alpha_snmf': 100,\n",
       "  'center_psf': False,\n",
       "  'gSig': [5, 5],\n",
       "  'gSiz': [11, 11],\n",
       "  'init_iter': 2,\n",
       "  'kernel': None,\n",
       "  'maxIter': 5,\n",
       "  'max_iter_snmf': 500,\n",
       "  'method_init': 'sparse_nmf',\n",
       "  'min_corr': 0.85,\n",
       "  'min_pnr': 20,\n",
       "  'nIter': 5,\n",
       "  'nb': 2,\n",
       "  'normalize_init': True,\n",
       "  'options_local_NMF': None,\n",
       "  'perc_baseline_snmf': 20,\n",
       "  'ring_size_factor': 1.5,\n",
       "  'rolling_length': 100,\n",
       "  'rolling_sum': True,\n",
       "  'sigma_smooth_snmf': (0.5, 0.5, 0.5),\n",
       "  'ssub': 1,\n",
       "  'ssub_B': 2,\n",
       "  'tsub': 1},\n",
       " 'preprocess_params': {'check_nan': True,\n",
       "  'compute_g': False,\n",
       "  'include_noise': False,\n",
       "  'lags': 5,\n",
       "  'max_num_samples_fft': 3072,\n",
       "  'n_pixels_per_process': 55372,\n",
       "  'noise_method': 'mean',\n",
       "  'noise_range': [0.25, 0.5],\n",
       "  'p': 1,\n",
       "  'pixels': None,\n",
       "  'sn': None},\n",
       " 'patch_params': {'border_pix': 0,\n",
       "  'del_duplicates': False,\n",
       "  'in_memory': True,\n",
       "  'low_rank_background': True,\n",
       "  'memory_fact': 1,\n",
       "  'n_processes': 1,\n",
       "  'nb_patch': 1,\n",
       "  'only_init': False,\n",
       "  'remove_very_bad_comps': False,\n",
       "  'rf': None,\n",
       "  'skip_refinement': False,\n",
       "  'p_ssub': 2,\n",
       "  'stride': 10,\n",
       "  'p_tsub': 2},\n",
       " 'online': {'N_samples_exceptionality': 5,\n",
       "  'batch_update_suff_stat': False,\n",
       "  'dist_shape_update': False,\n",
       "  'ds_factor': 1,\n",
       "  'epochs': 1,\n",
       "  'expected_comps': 500,\n",
       "  'init_batch': 1094,\n",
       "  'init_method': 'bare',\n",
       "  'iters_shape': 5,\n",
       "  'max_comp_update_shape': inf,\n",
       "  'max_num_added': 5,\n",
       "  'max_shifts_online': 10,\n",
       "  'min_SNR': 2.0,\n",
       "  'min_num_trial': 5,\n",
       "  'minibatch_shape': 100,\n",
       "  'minibatch_suff_stat': 5,\n",
       "  'motion_correct': True,\n",
       "  'movie_name_online': '/Users/Henry/Data/temp/Dendrites_Gwen/M3_October_2018/M3_2018-10-02/S1/online_movie.avi',\n",
       "  'normalize': False,\n",
       "  'n_refit': 0,\n",
       "  'num_times_comp_updated': inf,\n",
       "  'path_to_model': '/Users/Henry/caiman_data/model/cnn_model_online.h5',\n",
       "  'rval_thr': 0.85,\n",
       "  'save_online_movie': False,\n",
       "  'show_movie': False,\n",
       "  'simultaneously': False,\n",
       "  'sniper_mode': False,\n",
       "  'test_both': False,\n",
       "  'thresh_CNN_noisy': 0.5,\n",
       "  'thresh_fitness_delta': -50,\n",
       "  'thresh_fitness_raw': -18.915921668410164,\n",
       "  'thresh_overlap': 0.5,\n",
       "  'update_freq': 200,\n",
       "  'update_num_comps': True,\n",
       "  'use_dense': True,\n",
       "  'use_peak_max': True},\n",
       " 'quality': {'SNR_lowest': 0.5,\n",
       "  'cnn_lowest': 0.1,\n",
       "  'gSig_range': None,\n",
       "  'min_SNR': 2.0,\n",
       "  'min_cnn_thr': 0.99,\n",
       "  'rval_lowest': -1,\n",
       "  'rval_thr': 0.85,\n",
       "  'use_cnn': True},\n",
       " 'merging': {'do_merge': True, 'merge_thr': 0.8},\n",
       " 'motion': {'border_nan': 'copy',\n",
       "  'gSig_filt': None,\n",
       "  'max_deviation_rigid': 3,\n",
       "  'max_shifts': (6, 6),\n",
       "  'min_mov': None,\n",
       "  'niter_rig': 1,\n",
       "  'nonneg_movie': True,\n",
       "  'num_frames_split': 80,\n",
       "  'num_splits_to_process_els': [7, None],\n",
       "  'num_splits_to_process_rig': None,\n",
       "  'overlaps': (32, 32),\n",
       "  'pw_rigid': False,\n",
       "  'shifts_opencv': True,\n",
       "  'splits_els': 13,\n",
       "  'splits_rig': 13,\n",
       "  'strides': (96, 96),\n",
       "  'upsample_factor_grid': 4,\n",
       "  'use_cuda': False}}"
      ]
     },
     "execution_count": 51,
     "metadata": {},
     "output_type": "execute_result"
    }
   ],
   "source": [
    "opts.to_dict()"
   ]
  },
  {
   "cell_type": "code",
   "execution_count": 54,
   "metadata": {},
   "outputs": [
    {
     "data": {
      "text/plain": [
       "{'K': 20,\n",
       " 'alpha_snmf': 100,\n",
       " 'center_psf': False,\n",
       " 'gSig': [5, 5],\n",
       " 'gSiz': [11, 11],\n",
       " 'init_iter': 2,\n",
       " 'kernel': None,\n",
       " 'maxIter': 5,\n",
       " 'max_iter_snmf': 500,\n",
       " 'method_init': 'sparse_nmf',\n",
       " 'min_corr': 0.85,\n",
       " 'min_pnr': 20,\n",
       " 'nIter': 5,\n",
       " 'nb': 2,\n",
       " 'normalize_init': True,\n",
       " 'options_local_NMF': None,\n",
       " 'perc_baseline_snmf': 20,\n",
       " 'ring_size_factor': 1.5,\n",
       " 'rolling_length': 100,\n",
       " 'rolling_sum': True,\n",
       " 'sigma_smooth_snmf': (0.5, 0.5, 0.5),\n",
       " 'ssub': 1,\n",
       " 'ssub_B': 2,\n",
       " 'tsub': 1}"
      ]
     },
     "execution_count": 54,
     "metadata": {},
     "output_type": "execute_result"
    }
   ],
   "source": [
    "opts.get_group('init')"
   ]
  },
  {
   "cell_type": "code",
   "execution_count": null,
   "metadata": {},
   "outputs": [],
   "source": [
    "# First extract spatial and temporal components on patches and combine them\n",
    "# for this step deconvolution is turned off (p=0)\n",
    "# Then re-run seeded CNMF on accepted patches to refine and perform deconvolution\n",
    "opts.set('temporal', {'p': 0})\n",
    "cnm_list = []\n",
    "for ix_plane in range(n_planes):\n",
    "    if is_dendritic[ix_plane]:\n",
    "        opts.set('init', {'method_init': 'sparse_nmf'})\n",
    "    else:\n",
    "        opts.set('init', {'method_init': 'greedy_roi'})\n",
    "    cnm = cnmf.CNMF(n_processes, params=opts, dview=dview)\n",
    "    cnm.fit(images_list[ix_plane])\n",
    "     \n",
    "    cnm.params.set('temporal', {'p': p})\n",
    "    cnm2 = cnm.refit(images_list[ix_plane], dview=dview)\n",
    "    \n",
    "    cnm_list.append(cnm2)\n",
    "    \n",
    "    clear_output()"
   ]
  },
  {
   "cell_type": "code",
   "execution_count": 60,
   "metadata": {},
   "outputs": [
    {
     "name": "stdout",
     "output_type": "stream",
     "text": [
      "USING MODEL:/Users/Henry/caiman_data/model/cnn_model.json\n",
      "20/20 [==============================] - 0s 8ms/step\n",
      "\n",
      "Plane 0\n",
      "Found 7 good / 13 bad components\n",
      "\n",
      "USING MODEL:/Users/Henry/caiman_data/model/cnn_model.json\n",
      "13/13 [==============================] - 0s 12ms/step\n",
      "\n",
      "Plane 1\n",
      "Found 13 good / 0 bad components\n",
      "\n",
      "USING MODEL:/Users/Henry/caiman_data/model/cnn_model.json\n",
      "20/20 [==============================] - 0s 9ms/step\n",
      "\n",
      "Plane 2\n",
      "Found 2 good / 18 bad components\n",
      "\n"
     ]
    }
   ],
   "source": [
    "# Evaluate components\n",
    "for ix_plane, cnm in enumerate(cnm_list):\n",
    "    cnm.estimates.evaluate_components(images_list[ix_plane], cnm.params, dview=dview)\n",
    "    cnm_list[ix_plane] = cnm\n",
    "    print('\\nPlane %d' % (ix_plane))\n",
    "    print('Found %d good / %d bad components\\n' % (len(cnm.estimates.idx_components), \n",
    "                                                 len(cnm.estimates.idx_components_bad)))"
   ]
  },
  {
   "cell_type": "markdown",
   "metadata": {},
   "source": [
    "Plot contours of selected and rejected components"
   ]
  },
  {
   "cell_type": "code",
   "execution_count": null,
   "metadata": {},
   "outputs": [],
   "source": [
    "cnm2.estimates.plot_contours_nb(img=Cn, idx=cnm2.estimates.idx_components)"
   ]
  },
  {
   "cell_type": "markdown",
   "metadata": {},
   "source": [
    "View traces of accepted and rejected components. Note that if you get data rate error you can start Jupyter notebooks using: 'jupyter notebook --NotebookApp.iopub_data_rate_limit=1.0e10'"
   ]
  },
  {
   "cell_type": "code",
   "execution_count": null,
   "metadata": {},
   "outputs": [],
   "source": [
    "# accepted components\n",
    "cnm2.estimates.nb_view_components(img=Cn, idx=cnm2.estimates.idx_components)"
   ]
  },
  {
   "cell_type": "code",
   "execution_count": null,
   "metadata": {},
   "outputs": [],
   "source": [
    "# rejected components\n",
    "if len(cnm2.estimates.idx_components_bad) > 0:\n",
    "    cnm2.estimates.nb_view_components(img=Cn, idx=cnm2.estimates.idx_components_bad)\n",
    "else:\n",
    "    print(\"No components were rejected.\")"
   ]
  },
  {
   "cell_type": "markdown",
   "metadata": {},
   "source": [
    "#### Extract DF/F values"
   ]
  },
  {
   "cell_type": "code",
   "execution_count": null,
   "metadata": {},
   "outputs": [],
   "source": [
    "cnm2.estimates.detrend_df_f(quantileMin=8, frames_window=250)"
   ]
  },
  {
   "cell_type": "markdown",
   "metadata": {},
   "source": [
    "Select only high quality components."
   ]
  },
  {
   "cell_type": "code",
   "execution_count": null,
   "metadata": {},
   "outputs": [],
   "source": [
    "cnm2.estimates.select_components(use_object=True)"
   ]
  },
  {
   "cell_type": "code",
   "execution_count": null,
   "metadata": {},
   "outputs": [],
   "source": [
    "cnm2.estimates.nb_view_components(img=Cn, denoised_color='red')"
   ]
  },
  {
   "cell_type": "code",
   "execution_count": null,
   "metadata": {},
   "outputs": [],
   "source": []
  }
 ],
 "metadata": {
  "kernelspec": {
   "display_name": "caiman",
   "language": "python",
   "name": "caiman"
  },
  "language_info": {
   "codemirror_mode": {
    "name": "ipython",
    "version": 3
   },
   "file_extension": ".py",
   "mimetype": "text/x-python",
   "name": "python",
   "nbconvert_exporter": "python",
   "pygments_lexer": "ipython3",
   "version": "3.6.6"
  }
 },
 "nbformat": 4,
 "nbformat_minor": 2
}
