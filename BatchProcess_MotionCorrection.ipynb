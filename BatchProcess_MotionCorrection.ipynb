{
 "cells": [
  {
   "cell_type": "code",
   "execution_count": 12,
   "metadata": {},
   "outputs": [],
   "source": [
    "import os, shutil, yaml\n",
    "import papermill as pm"
   ]
  },
  {
   "cell_type": "code",
   "execution_count": 4,
   "metadata": {},
   "outputs": [],
   "source": [
    "path_to_default_config = 'config.yml'"
   ]
  },
  {
   "cell_type": "code",
   "execution_count": 5,
   "metadata": {},
   "outputs": [],
   "source": [
    "# specify sessions to analyze (Animal ID, Date, Area) \n",
    "sessions_to_analyze = [\n",
    "    ['M5.2', '20181211', 'S1'],\n",
    "    ['M5.2', '20181211', 'S2'],\n",
    "    ['M5.2', '20181213', 'S1']\n",
    "]"
   ]
  },
  {
   "cell_type": "code",
   "execution_count": 9,
   "metadata": {},
   "outputs": [],
   "source": [
    "config_file_list = []\n",
    "for ix, session in enumerate(sessions_to_analyze):\n",
    "    # name of the session config file\n",
    "    config_file_list.append(path_to_default_config.replace('.yml', '_%s_%s_%s.yml' % \n",
    "                                                           (session[0], session[1], session[2])))\n",
    "    # open default config file\n",
    "    with open(path_to_default_config) as f:\n",
    "        config = yaml.load(f, Loader=yaml.FullLoader)\n",
    "    \n",
    "    # replace session info\n",
    "    config['data']['animal_folder'] = session[0]\n",
    "    config['data']['day_folder'] = session[1]\n",
    "    config['data']['area_folder'] = session[2]\n",
    "    \n",
    "    # save session config file\n",
    "    with open(config_file_list[ix], 'w') as outfile:\n",
    "        yaml.dump(config, outfile, default_flow_style=False)"
   ]
  },
  {
   "cell_type": "code",
   "execution_count": 13,
   "metadata": {},
   "outputs": [
    {
     "name": "stdout",
     "output_type": "stream",
     "text": [
      "Running motion correction for M5.2 20181211 S1.\n",
      "Output notebook: 01_Preprocess_MC_3D_M5.2_20181211_S1.ibynb\n"
     ]
    },
    {
     "data": {
      "application/vnd.jupyter.widget-view+json": {
       "model_id": "c50d11ba781740cda9ac4aee2a99bddb",
       "version_major": 2,
       "version_minor": 0
      },
      "text/plain": [
       "HBox(children=(IntProgress(value=0, max=54), HTML(value='')))"
      ]
     },
     "metadata": {},
     "output_type": "display_data"
    },
    {
     "name": "stderr",
     "output_type": "stream",
     "text": [
      "/home/luetcke/.conda/envs/caiman/lib/python3.6/site-packages/papermill/iorw.py:107: UserWarning: The specified input file (01_Preprocess_MC_3D_M5.2_20181211_S1.ibynb) does not end in one of ['.ipynb', '.json']\n",
      "  \"The specified input file ({}) does not end in one of {}\".format(path, extensions)\n"
     ]
    },
    {
     "name": "stdout",
     "output_type": "stream",
     "text": [
      "\n",
      "Running motion correction for M5.2 20181211 S2.\n",
      "Output notebook: 01_Preprocess_MC_3D_M5.2_20181211_S2.ibynb\n"
     ]
    },
    {
     "data": {
      "application/vnd.jupyter.widget-view+json": {
       "model_id": "9bb1d1140fe24e149959fe74c749d2dc",
       "version_major": 2,
       "version_minor": 0
      },
      "text/plain": [
       "HBox(children=(IntProgress(value=0, max=54), HTML(value='')))"
      ]
     },
     "metadata": {},
     "output_type": "display_data"
    },
    {
     "name": "stderr",
     "output_type": "stream",
     "text": [
      "/home/luetcke/.conda/envs/caiman/lib/python3.6/site-packages/papermill/iorw.py:107: UserWarning: The specified input file (01_Preprocess_MC_3D_M5.2_20181211_S2.ibynb) does not end in one of ['.ipynb', '.json']\n",
      "  \"The specified input file ({}) does not end in one of {}\".format(path, extensions)\n"
     ]
    },
    {
     "name": "stdout",
     "output_type": "stream",
     "text": [
      "\n",
      "Running motion correction for M5.2 20181213 S1.\n",
      "Output notebook: 01_Preprocess_MC_3D_M5.2_20181213_S1.ibynb\n"
     ]
    },
    {
     "data": {
      "application/vnd.jupyter.widget-view+json": {
       "model_id": "082720dd3f8b49f99ade3c358d2923d0",
       "version_major": 2,
       "version_minor": 0
      },
      "text/plain": [
       "HBox(children=(IntProgress(value=0, max=54), HTML(value='')))"
      ]
     },
     "metadata": {},
     "output_type": "display_data"
    },
    {
     "name": "stderr",
     "output_type": "stream",
     "text": [
      "/home/luetcke/.conda/envs/caiman/lib/python3.6/site-packages/papermill/iorw.py:107: UserWarning: The specified input file (01_Preprocess_MC_3D_M5.2_20181213_S1.ibynb) does not end in one of ['.ipynb', '.json']\n",
      "  \"The specified input file ({}) does not end in one of {}\".format(path, extensions)\n"
     ]
    },
    {
     "name": "stdout",
     "output_type": "stream",
     "text": [
      "\n"
     ]
    },
    {
     "ename": "PapermillExecutionError",
     "evalue": "\n---------------------------------------------------------------------------\nException encountered at \"In [29]\":\n---------------------------------------------------------------------------\nRuntimeError                              Traceback (most recent call last)\n<ipython-input-29-9e3149f475e2> in <module>\n     40     metrics_files.append(json_fname_list[i_group].replace('.json', '_MC_metrics.npz'))\n     41     np.savez(os.path.join(working_data_folder, metrics_files[i_group]), metrics=metrics[i_group], crispness=crispness[i_group], norms=norms[i_group], \n---> 42              corr_mean=corr_mean[i_group], corr_min=corr_min[i_group])\n     43 \n     44 clear_output()\n\n~/.conda/envs/caiman/lib/python3.6/site-packages/numpy/lib/npyio.py in savez(file, *args, **kwds)\n    617 \n    618     \"\"\"\n--> 619     _savez(file, args, kwds, False)\n    620 \n    621 \n\n~/.conda/envs/caiman/lib/python3.6/site-packages/numpy/lib/npyio.py in _savez(file, args, kwds, compress, allow_pickle, pickle_kwargs)\n    726                 format.write_array(fid, val,\n    727                                    allow_pickle=allow_pickle,\n--> 728                                    pickle_kwargs=pickle_kwargs)\n    729     else:\n    730         # Stage arrays in a temporary file on disk, before writing to zip.\n\n~/.conda/envs/caiman/lib/python3.6/zipfile.py in close(self)\n   1041             if not self._zip64:\n   1042                 if self._file_size > ZIP64_LIMIT:\n-> 1043                     raise RuntimeError('File size unexpectedly exceeded ZIP64 '\n   1044                                        'limit')\n   1045                 if self._compress_size > ZIP64_LIMIT:\n\nRuntimeError: File size unexpectedly exceeded ZIP64 limit\n",
     "output_type": "error",
     "traceback": [
      "\u001b[0;31m---------------------------------------------------------------------------\u001b[0m",
      "\u001b[0;31mPapermillExecutionError\u001b[0m                   Traceback (most recent call last)",
      "\u001b[0;32m<ipython-input-13-cbd701eb760a>\u001b[0m in \u001b[0;36m<module>\u001b[0;34m\u001b[0m\n\u001b[1;32m      9\u001b[0m        \u001b[0minput_nb\u001b[0m\u001b[0;34m,\u001b[0m\u001b[0;34m\u001b[0m\u001b[0;34m\u001b[0m\u001b[0m\n\u001b[1;32m     10\u001b[0m        \u001b[0moutput_nb\u001b[0m\u001b[0;34m,\u001b[0m\u001b[0;34m\u001b[0m\u001b[0;34m\u001b[0m\u001b[0m\n\u001b[0;32m---> 11\u001b[0;31m        \u001b[0mparameters\u001b[0m \u001b[0;34m=\u001b[0m \u001b[0mdict\u001b[0m\u001b[0;34m(\u001b[0m\u001b[0mconfig_file\u001b[0m\u001b[0;34m=\u001b[0m\u001b[0mcurrent_config\u001b[0m\u001b[0;34m)\u001b[0m\u001b[0;34m\u001b[0m\u001b[0;34m\u001b[0m\u001b[0m\n\u001b[0m\u001b[1;32m     12\u001b[0m     )\n\u001b[1;32m     13\u001b[0m \u001b[0;34m\u001b[0m\u001b[0m\n",
      "\u001b[0;32m~/.conda/envs/caiman/lib/python3.6/site-packages/papermill/execute.py\u001b[0m in \u001b[0;36mexecute_notebook\u001b[0;34m(input_path, output_path, parameters, engine_name, prepare_only, kernel_name, progress_bar, log_output, start_timeout, report_mode, cwd)\u001b[0m\n\u001b[1;32m     98\u001b[0m \u001b[0;34m\u001b[0m\u001b[0m\n\u001b[1;32m     99\u001b[0m             \u001b[0;31m# Check for errors first (it saves on error before raising)\u001b[0m\u001b[0;34m\u001b[0m\u001b[0;34m\u001b[0m\u001b[0;34m\u001b[0m\u001b[0m\n\u001b[0;32m--> 100\u001b[0;31m             \u001b[0mraise_for_execution_errors\u001b[0m\u001b[0;34m(\u001b[0m\u001b[0mnb\u001b[0m\u001b[0;34m,\u001b[0m \u001b[0moutput_path\u001b[0m\u001b[0;34m)\u001b[0m\u001b[0;34m\u001b[0m\u001b[0;34m\u001b[0m\u001b[0m\n\u001b[0m\u001b[1;32m    101\u001b[0m \u001b[0;34m\u001b[0m\u001b[0m\n\u001b[1;32m    102\u001b[0m         \u001b[0;31m# Write final output in case the engine didn't write it on cell completion.\u001b[0m\u001b[0;34m\u001b[0m\u001b[0;34m\u001b[0m\u001b[0;34m\u001b[0m\u001b[0m\n",
      "\u001b[0;32m~/.conda/envs/caiman/lib/python3.6/site-packages/papermill/execute.py\u001b[0m in \u001b[0;36mraise_for_execution_errors\u001b[0;34m(nb, output_path)\u001b[0m\n\u001b[1;32m    245\u001b[0m         \u001b[0mnb\u001b[0m\u001b[0;34m.\u001b[0m\u001b[0mcells\u001b[0m \u001b[0;34m=\u001b[0m \u001b[0;34m[\u001b[0m\u001b[0merror_msg_cell\u001b[0m\u001b[0;34m]\u001b[0m \u001b[0;34m+\u001b[0m \u001b[0mnb\u001b[0m\u001b[0;34m.\u001b[0m\u001b[0mcells\u001b[0m\u001b[0;34m\u001b[0m\u001b[0;34m\u001b[0m\u001b[0m\n\u001b[1;32m    246\u001b[0m         \u001b[0mwrite_ipynb\u001b[0m\u001b[0;34m(\u001b[0m\u001b[0mnb\u001b[0m\u001b[0;34m,\u001b[0m \u001b[0moutput_path\u001b[0m\u001b[0;34m)\u001b[0m\u001b[0;34m\u001b[0m\u001b[0;34m\u001b[0m\u001b[0m\n\u001b[0;32m--> 247\u001b[0;31m         \u001b[0;32mraise\u001b[0m \u001b[0merror\u001b[0m\u001b[0;34m\u001b[0m\u001b[0;34m\u001b[0m\u001b[0m\n\u001b[0m",
      "\u001b[0;31mPapermillExecutionError\u001b[0m: \n---------------------------------------------------------------------------\nException encountered at \"In [29]\":\n---------------------------------------------------------------------------\nRuntimeError                              Traceback (most recent call last)\n<ipython-input-29-9e3149f475e2> in <module>\n     40     metrics_files.append(json_fname_list[i_group].replace('.json', '_MC_metrics.npz'))\n     41     np.savez(os.path.join(working_data_folder, metrics_files[i_group]), metrics=metrics[i_group], crispness=crispness[i_group], norms=norms[i_group], \n---> 42              corr_mean=corr_mean[i_group], corr_min=corr_min[i_group])\n     43 \n     44 clear_output()\n\n~/.conda/envs/caiman/lib/python3.6/site-packages/numpy/lib/npyio.py in savez(file, *args, **kwds)\n    617 \n    618     \"\"\"\n--> 619     _savez(file, args, kwds, False)\n    620 \n    621 \n\n~/.conda/envs/caiman/lib/python3.6/site-packages/numpy/lib/npyio.py in _savez(file, args, kwds, compress, allow_pickle, pickle_kwargs)\n    726                 format.write_array(fid, val,\n    727                                    allow_pickle=allow_pickle,\n--> 728                                    pickle_kwargs=pickle_kwargs)\n    729     else:\n    730         # Stage arrays in a temporary file on disk, before writing to zip.\n\n~/.conda/envs/caiman/lib/python3.6/zipfile.py in close(self)\n   1041             if not self._zip64:\n   1042                 if self._file_size > ZIP64_LIMIT:\n-> 1043                     raise RuntimeError('File size unexpectedly exceeded ZIP64 '\n   1044                                        'limit')\n   1045                 if self._compress_size > ZIP64_LIMIT:\n\nRuntimeError: File size unexpectedly exceeded ZIP64 limit\n"
     ]
    }
   ],
   "source": [
    "input_nb = '01_Preprocess_MC_3D.ipynb'\n",
    "for ix, session in enumerate(sessions_to_analyze):\n",
    "    current_config = config_file_list[ix]\n",
    "    output_nb = input_nb.replace('.ipynb', '_%s_%s_%s.ipynb' % (session[0], session[1], session[2]))\n",
    "    print('Running motion correction for %s %s %s.\\nOutput notebook: %s' % \n",
    "          (session[0], session[1], session[2], output_nb))\n",
    "\n",
    "    pm.execute_notebook(\n",
    "       input_nb,\n",
    "       output_nb,\n",
    "       parameters = dict(config_file=current_config)\n",
    "    )\n",
    "    \n",
    "#     os.remove(current_config)"
   ]
  },
  {
   "cell_type": "code",
   "execution_count": null,
   "metadata": {},
   "outputs": [],
   "source": []
  }
 ],
 "metadata": {
  "kernelspec": {
   "display_name": "caiman",
   "language": "python",
   "name": "caiman"
  },
  "language_info": {
   "codemirror_mode": {
    "name": "ipython",
    "version": 3
   },
   "file_extension": ".py",
   "mimetype": "text/x-python",
   "name": "python",
   "nbconvert_exporter": "python",
   "pygments_lexer": "ipython3",
   "version": "3.6.7"
  }
 },
 "nbformat": 4,
 "nbformat_minor": 2
}
