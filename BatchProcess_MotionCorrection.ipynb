{
 "cells": [
  {
   "cell_type": "code",
   "execution_count": null,
   "metadata": {},
   "outputs": [],
   "source": [
    "import os, shutil, yaml\n",
    "import papermill as pm"
   ]
  },
  {
   "cell_type": "code",
   "execution_count": null,
   "metadata": {},
   "outputs": [],
   "source": [
    "path_to_default_config = 'config.yml'"
   ]
  },
  {
   "cell_type": "code",
   "execution_count": null,
   "metadata": {},
   "outputs": [],
   "source": [
    "# specify sessions to analyze (Animal ID, Date, Area) \n",
    "sessions_to_analyze = [\n",
    "    ['M5.2', '20181211', 'S1'],\n",
    "    ['M5.2', '20181211', 'S2'],\n",
    "    ['M5.2', '20181213', 'S1']\n",
    "]"
   ]
  },
  {
   "cell_type": "code",
   "execution_count": null,
   "metadata": {},
   "outputs": [],
   "source": [
    "config_file_list = []\n",
    "for ix, session in enumerate(sessions_to_analyze):\n",
    "    # name of the session config file\n",
    "    config_file_list.append(path_to_default_config.replace('.yml', '_%s_%s_%s.yml' % \n",
    "                                                           (session[0], session[1], session[2])))\n",
    "    # open default config file\n",
    "    with open(path_to_default_config) as f:\n",
    "        config = yaml.load(f, Loader=yaml.FullLoader)\n",
    "    \n",
    "    # replace session info\n",
    "    config['data']['animal_folder'] = session[0]\n",
    "    config['data']['day_folder'] = session[1]\n",
    "    config['data']['area_folder'] = session[2]\n",
    "    \n",
    "    # save session config file\n",
    "    with open(config_file_list[ix], 'w') as outfile:\n",
    "        yaml.dump(config, outfile, default_flow_style=False)"
   ]
  },
  {
   "cell_type": "code",
   "execution_count": null,
   "metadata": {},
   "outputs": [],
   "source": [
    "input_nb = '01_Preprocess_MC_3D.ipynb'\n",
    "for ix, session in enumerate(sessions_to_analyze):\n",
    "    current_config = config_file_list[ix]\n",
    "    output_nb = input_nb.replace('.ipynb', '_%s_%s_%s.ipynb' % (session[0], session[1], session[2]))\n",
    "    print('Running motion correction for %s %s %s.\\nOutput notebook: %s' % \n",
    "          (session[0], session[1], session[2], output_nb))\n",
    "\n",
    "    pm.execute_notebook(\n",
    "       input_nb,\n",
    "       output_nb,\n",
    "       parameters = dict(config_file=current_config)\n",
    "    )\n",
    "    \n",
    "#     os.remove(current_config)"
   ]
  },
  {
   "cell_type": "code",
   "execution_count": null,
   "metadata": {},
   "outputs": [],
   "source": []
  }
 ],
 "metadata": {
  "kernelspec": {
   "display_name": "caiman",
   "language": "python",
   "name": "caiman"
  },
  "language_info": {
   "codemirror_mode": {
    "name": "ipython",
    "version": 3
   },
   "file_extension": ".py",
   "mimetype": "text/x-python",
   "name": "python",
   "nbconvert_exporter": "python",
   "pygments_lexer": "ipython3",
   "version": "3.6.7"
  }
 },
 "nbformat": 4,
 "nbformat_minor": 2
}
