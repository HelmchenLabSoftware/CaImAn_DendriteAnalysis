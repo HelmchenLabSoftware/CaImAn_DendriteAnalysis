{
 "cells": [
  {
   "cell_type": "code",
   "execution_count": null,
   "metadata": {},
   "outputs": [],
   "source": [
    "import os, shutil, yaml\n",
    "import papermill as pm"
   ]
  },
  {
   "cell_type": "code",
   "execution_count": null,
   "metadata": {},
   "outputs": [],
   "source": [
    "path_to_default_config = 'config.yml'"
   ]
  },
  {
   "cell_type": "code",
   "execution_count": null,
   "metadata": {},
   "outputs": [],
   "source": [
    "# specify sessions to analyze (Animal ID, Date, Area) \n",
    "sessions_to_analyze = [\n",
    "    [ 'calcium','20190615', 'S1'],\n",
    "    [ 'calcium','20190617', 'S1'],\n",
    "    [ 'calcium','20190618', 'S1'],\n",
    "    [ 'calcium','20190624', 'S1'],\n",
    "    [ 'calcium','20190625', 'S1'],\n",
    "]"
   ]
  },
  {
   "cell_type": "code",
   "execution_count": null,
   "metadata": {},
   "outputs": [],
   "source": [
    "config_file_list = []\n",
    "for ix, session in enumerate(sessions_to_analyze):\n",
    "    # name of the session config file\n",
    "    config_file_list.append(path_to_default_config.replace('.yml', '_%s_%s_%s.yml' % \n",
    "                                                           (session[0], session[1], session[2])))\n",
    "    # open default config file\n",
    "    with open(path_to_default_config) as f:\n",
    "        config = yaml.load(f, Loader=yaml.FullLoader)\n",
    "    \n",
    "    # replace session info\n",
    "    config['data']['animal_folder'] = session[0]\n",
    "    config['data']['day_folder'] = session[1]\n",
    "    config['data']['area_folder'] = session[2]\n",
    "    \n",
    "    # check if session exists\n",
    "    data_folder = os.path.join(config['data']['data_folder'], session[0], session[1], session[2])\n",
    "    if not os.path.exists(data_folder):\n",
    "        raise Exception('The folder %s could not be found!' % (data_folder))\n",
    "    \n",
    "    # save session config file\n",
    "    with open(config_file_list[ix], 'w') as outfile:\n",
    "        yaml.dump(config, outfile, default_flow_style=False)"
   ]
  },
  {
   "cell_type": "code",
   "execution_count": null,
   "metadata": {},
   "outputs": [],
   "source": [
    "def delete_dirs_in_tmp():\n",
    "    '''\n",
    "    Function to try and delete tmp folders from a previous analysis\n",
    "    '''\n",
    "    for x in os.listdir('/tmp'):\n",
    "        if x.startswith('tmp'):\n",
    "            try:\n",
    "                os.rmdir(os.path.join('/tmp', x))\n",
    "                print('Deleted directory %s' % os.path.join('/tmp', x))\n",
    "            except:\n",
    "                print('Failed to delete directory %s' % os.path.join('/tmp', x))"
   ]
  },
  {
   "cell_type": "code",
   "execution_count": null,
   "metadata": {},
   "outputs": [],
   "source": [
    "input_nb = '01_Preprocess_MC_3D.ipynb'\n",
    "for ix, session in enumerate(sessions_to_analyze):\n",
    "    # delete left-over directories from previous (failed )analysis\n",
    "    delete_dirs_in_tmp()\n",
    "    \n",
    "    current_config = config_file_list[ix]\n",
    "    output_nb = input_nb.replace('.ipynb', '_%s_%s_%s.ipynb' % (session[0], session[1], session[2]))\n",
    "    print('Running motion correction for %s %s %s.\\nOutput notebook: %s' % \n",
    "          (session[0], session[1], session[2], output_nb))\n",
    "    \n",
    "    try:\n",
    "        pm.execute_notebook(\n",
    "            input_nb, \n",
    "            output_nb, \n",
    "            parameters = dict(config_file=current_config)\n",
    "        )\n",
    "        print('Finished execution of notebook for %s %s %s' % (session[0], session[1], session[2]))\n",
    "        with open(current_config.replace('.yml','.success'), 'w') as outfile:\n",
    "            pass\n",
    "    except:\n",
    "        with open(current_config.replace('.yml','.error'), 'w') as outfile:\n",
    "            pass\n",
    "        raise Exception('Error during execution of notebook for %s %s %s. Check output notebook!' \n",
    "                        % (session[0], session[1], session[2]))\n",
    "        break\n",
    "\n",
    "    os.remove(current_config)"
   ]
  },
  {
   "cell_type": "code",
   "execution_count": null,
   "metadata": {},
   "outputs": [],
   "source": []
  }
 ],
 "metadata": {
  "kernelspec": {
   "display_name": "caiman",
   "language": "python",
   "name": "caiman"
  },
  "language_info": {
   "codemirror_mode": {
    "name": "ipython",
    "version": 3
   },
   "file_extension": ".py",
   "mimetype": "text/x-python",
   "name": "python",
   "nbconvert_exporter": "python",
   "pygments_lexer": "ipython3",
   "version": "3.6.7"
  }
 },
 "nbformat": 4,
 "nbformat_minor": 2
}
