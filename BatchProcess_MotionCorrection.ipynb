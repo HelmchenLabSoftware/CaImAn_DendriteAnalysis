{
 "cells": [
  {
   "cell_type": "code",
   "execution_count": 1,
   "metadata": {},
   "outputs": [],
   "source": [
    "import os, shutil, yaml\n",
    "import papermill as pm"
   ]
  },
  {
   "cell_type": "code",
   "execution_count": 2,
   "metadata": {},
   "outputs": [],
   "source": [
    "path_to_default_config = 'config.yml'"
   ]
  },
  {
   "cell_type": "code",
   "execution_count": 3,
   "metadata": {},
   "outputs": [],
   "source": [
    "# specify sessions to analyze (Animal ID, Date, Area) \n",
    "sessions_to_analyze = [\n",
    "    [ 'calcium','20190513', 'S1'],  \n",
    "    [ 'calcium','20190514', 'S1'],\n",
    "    [ 'calcium','20190515', 'S1'],\n",
    "    [ 'calcium','20190516', 'S1'],\n",
    "    [ 'calcium','20190517', 'S1'],\n",
    "    [ 'calcium','20190520', 'S1'],\n",
    "    [ 'calcium','20190521', 'S1'],\n",
    "    [ 'calcium','20190521', 'S2'],\n",
    "    [ 'calcium','20190522', 'S1'],\n",
    "    [ 'calcium','20190522', 'S2'],\n",
    "    [ 'calcium','20190523', 'S1'],\n",
    "    [ 'calcium','20190524', 'S1'],\n",
    "    [ 'calcium','20190529', 'S1'],\n",
    "    [ 'calcium','20190529', 'S2'],\n",
    "    [ 'calcium','20190530', 'S1'],\n",
    "    [ 'calcium','20190530', 'S2'],\n",
    "    [ 'calcium','20190531', 'S1'],\n",
    "    [ 'calcium','20190531', 'S2'],\n",
    "]"
   ]
  },
  {
   "cell_type": "code",
   "execution_count": 4,
   "metadata": {},
   "outputs": [],
   "source": [
    "config_file_list = []\n",
    "for ix, session in enumerate(sessions_to_analyze):\n",
    "    # name of the session config file\n",
    "    config_file_list.append(path_to_default_config.replace('.yml', '_%s_%s_%s.yml' % \n",
    "                                                           (session[0], session[1], session[2])))\n",
    "    # open default config file\n",
    "    with open(path_to_default_config) as f:\n",
    "        config = yaml.load(f, Loader=yaml.FullLoader)\n",
    "    \n",
    "    # replace session info\n",
    "    config['data']['animal_folder'] = session[0]\n",
    "    config['data']['day_folder'] = session[1]\n",
    "    config['data']['area_folder'] = session[2]\n",
    "    \n",
    "    # check if session exists\n",
    "    data_folder = os.path.join(config['data']['data_folder'], session[0], session[1], session[2])\n",
    "    if not os.path.exists(data_folder):\n",
    "        raise Exception('The folder %s could not be found!' % (data_folder))\n",
    "    \n",
    "    # save session config file\n",
    "    with open(config_file_list[ix], 'w') as outfile:\n",
    "        yaml.dump(config, outfile, default_flow_style=False)"
   ]
  },
  {
   "cell_type": "code",
   "execution_count": 5,
   "metadata": {},
   "outputs": [
    {
     "name": "stdout",
     "output_type": "stream",
     "text": [
      "Running motion correction for calcium 20190513 S1.\n",
      "Output notebook: 01_Preprocess_MC_3D_calcium_20190513_S1.ipynb\n"
     ]
    },
    {
     "data": {
      "application/vnd.jupyter.widget-view+json": {
       "model_id": "915d8ad832fb496786e5b784aa740aac",
       "version_major": 2,
       "version_minor": 0
      },
      "text/plain": [
       "HBox(children=(IntProgress(value=0, max=54), HTML(value='')))"
      ]
     },
     "metadata": {},
     "output_type": "display_data"
    },
    {
     "name": "stdout",
     "output_type": "stream",
     "text": [
      "\n",
      "Finished execution of notebook for calcium 20190513 S1\n",
      "Running motion correction for calcium 20190514 S1.\n",
      "Output notebook: 01_Preprocess_MC_3D_calcium_20190514_S1.ipynb\n"
     ]
    },
    {
     "data": {
      "application/vnd.jupyter.widget-view+json": {
       "model_id": "59c658b847e347c8946a44676c1cd420",
       "version_major": 2,
       "version_minor": 0
      },
      "text/plain": [
       "HBox(children=(IntProgress(value=0, max=54), HTML(value='')))"
      ]
     },
     "metadata": {},
     "output_type": "display_data"
    },
    {
     "name": "stdout",
     "output_type": "stream",
     "text": [
      "\n",
      "Finished execution of notebook for calcium 20190514 S1\n",
      "Running motion correction for calcium 20190515 S1.\n",
      "Output notebook: 01_Preprocess_MC_3D_calcium_20190515_S1.ipynb\n"
     ]
    },
    {
     "data": {
      "application/vnd.jupyter.widget-view+json": {
       "model_id": "239b556bff684ec3927d39120a05e7a6",
       "version_major": 2,
       "version_minor": 0
      },
      "text/plain": [
       "HBox(children=(IntProgress(value=0, max=54), HTML(value='')))"
      ]
     },
     "metadata": {},
     "output_type": "display_data"
    },
    {
     "name": "stdout",
     "output_type": "stream",
     "text": [
      "\n",
      "Finished execution of notebook for calcium 20190515 S1\n",
      "Running motion correction for calcium 20190516 S1.\n",
      "Output notebook: 01_Preprocess_MC_3D_calcium_20190516_S1.ipynb\n"
     ]
    },
    {
     "data": {
      "application/vnd.jupyter.widget-view+json": {
       "model_id": "da0853af3b424e8abba3f430eca85b04",
       "version_major": 2,
       "version_minor": 0
      },
      "text/plain": [
       "HBox(children=(IntProgress(value=0, max=54), HTML(value='')))"
      ]
     },
     "metadata": {},
     "output_type": "display_data"
    },
    {
     "name": "stdout",
     "output_type": "stream",
     "text": [
      "\n",
      "Finished execution of notebook for calcium 20190516 S1\n",
      "Running motion correction for calcium 20190517 S1.\n",
      "Output notebook: 01_Preprocess_MC_3D_calcium_20190517_S1.ipynb\n"
     ]
    },
    {
     "data": {
      "application/vnd.jupyter.widget-view+json": {
       "model_id": "24c41728c2fd4dfea7218d84ab2ff381",
       "version_major": 2,
       "version_minor": 0
      },
      "text/plain": [
       "HBox(children=(IntProgress(value=0, max=54), HTML(value='')))"
      ]
     },
     "metadata": {},
     "output_type": "display_data"
    },
    {
     "name": "stdout",
     "output_type": "stream",
     "text": [
      "\n",
      "Finished execution of notebook for calcium 20190517 S1\n",
      "Running motion correction for calcium 20190520 S1.\n",
      "Output notebook: 01_Preprocess_MC_3D_calcium_20190520_S1.ipynb\n"
     ]
    },
    {
     "data": {
      "application/vnd.jupyter.widget-view+json": {
       "model_id": "6c23f6f3d32149df9c29a59d4b1ee244",
       "version_major": 2,
       "version_minor": 0
      },
      "text/plain": [
       "HBox(children=(IntProgress(value=0, max=54), HTML(value='')))"
      ]
     },
     "metadata": {},
     "output_type": "display_data"
    },
    {
     "name": "stdout",
     "output_type": "stream",
     "text": [
      "\n",
      "Finished execution of notebook for calcium 20190520 S1\n",
      "Running motion correction for calcium 20190521 S1.\n",
      "Output notebook: 01_Preprocess_MC_3D_calcium_20190521_S1.ipynb\n"
     ]
    },
    {
     "data": {
      "application/vnd.jupyter.widget-view+json": {
       "model_id": "5492167bad80466bb4649f7d5f196322",
       "version_major": 2,
       "version_minor": 0
      },
      "text/plain": [
       "HBox(children=(IntProgress(value=0, max=54), HTML(value='')))"
      ]
     },
     "metadata": {},
     "output_type": "display_data"
    },
    {
     "name": "stdout",
     "output_type": "stream",
     "text": [
      "\n",
      "Finished execution of notebook for calcium 20190521 S1\n",
      "Running motion correction for calcium 20190521 S2.\n",
      "Output notebook: 01_Preprocess_MC_3D_calcium_20190521_S2.ipynb\n"
     ]
    },
    {
     "data": {
      "application/vnd.jupyter.widget-view+json": {
       "model_id": "d86f1ef62875498bb373e04a29c0719e",
       "version_major": 2,
       "version_minor": 0
      },
      "text/plain": [
       "HBox(children=(IntProgress(value=0, max=54), HTML(value='')))"
      ]
     },
     "metadata": {},
     "output_type": "display_data"
    },
    {
     "name": "stdout",
     "output_type": "stream",
     "text": [
      "\n",
      "Finished execution of notebook for calcium 20190521 S2\n",
      "Running motion correction for calcium 20190522 S1.\n",
      "Output notebook: 01_Preprocess_MC_3D_calcium_20190522_S1.ipynb\n"
     ]
    },
    {
     "data": {
      "application/vnd.jupyter.widget-view+json": {
       "model_id": "e584126cd0d74aa390cd18d7f25ec802",
       "version_major": 2,
       "version_minor": 0
      },
      "text/plain": [
       "HBox(children=(IntProgress(value=0, max=54), HTML(value='')))"
      ]
     },
     "metadata": {},
     "output_type": "display_data"
    },
    {
     "name": "stdout",
     "output_type": "stream",
     "text": [
      "\n",
      "Finished execution of notebook for calcium 20190522 S1\n",
      "Running motion correction for calcium 20190522 S2.\n",
      "Output notebook: 01_Preprocess_MC_3D_calcium_20190522_S2.ipynb\n"
     ]
    },
    {
     "data": {
      "application/vnd.jupyter.widget-view+json": {
       "model_id": "b495879fec0c4a02b95e3185647a9f63",
       "version_major": 2,
       "version_minor": 0
      },
      "text/plain": [
       "HBox(children=(IntProgress(value=0, max=54), HTML(value='')))"
      ]
     },
     "metadata": {},
     "output_type": "display_data"
    },
    {
     "name": "stdout",
     "output_type": "stream",
     "text": [
      "\n",
      "Finished execution of notebook for calcium 20190522 S2\n",
      "Running motion correction for calcium 20190523 S1.\n",
      "Output notebook: 01_Preprocess_MC_3D_calcium_20190523_S1.ipynb\n"
     ]
    },
    {
     "data": {
      "application/vnd.jupyter.widget-view+json": {
       "model_id": "925830c9c2b04a5b9a793473cebc8e49",
       "version_major": 2,
       "version_minor": 0
      },
      "text/plain": [
       "HBox(children=(IntProgress(value=0, max=54), HTML(value='')))"
      ]
     },
     "metadata": {},
     "output_type": "display_data"
    },
    {
     "name": "stdout",
     "output_type": "stream",
     "text": [
      "\n",
      "Finished execution of notebook for calcium 20190523 S1\n",
      "Running motion correction for calcium 20190524 S1.\n",
      "Output notebook: 01_Preprocess_MC_3D_calcium_20190524_S1.ipynb\n"
     ]
    },
    {
     "data": {
      "application/vnd.jupyter.widget-view+json": {
       "model_id": "33ef824e302c4e46a3a5a9b785a8cbd8",
       "version_major": 2,
       "version_minor": 0
      },
      "text/plain": [
       "HBox(children=(IntProgress(value=0, max=54), HTML(value='')))"
      ]
     },
     "metadata": {},
     "output_type": "display_data"
    },
    {
     "name": "stdout",
     "output_type": "stream",
     "text": [
      "\n",
      "Finished execution of notebook for calcium 20190524 S1\n",
      "Running motion correction for calcium 20190529 S1.\n",
      "Output notebook: 01_Preprocess_MC_3D_calcium_20190529_S1.ipynb\n"
     ]
    },
    {
     "data": {
      "application/vnd.jupyter.widget-view+json": {
       "model_id": "98708002dd5f4f05ab4c2dfde2fd5855",
       "version_major": 2,
       "version_minor": 0
      },
      "text/plain": [
       "HBox(children=(IntProgress(value=0, max=54), HTML(value='')))"
      ]
     },
     "metadata": {},
     "output_type": "display_data"
    },
    {
     "name": "stdout",
     "output_type": "stream",
     "text": [
      "\n",
      "Finished execution of notebook for calcium 20190529 S1\n",
      "Running motion correction for calcium 20190529 S2.\n",
      "Output notebook: 01_Preprocess_MC_3D_calcium_20190529_S2.ipynb\n"
     ]
    },
    {
     "data": {
      "application/vnd.jupyter.widget-view+json": {
       "model_id": "9f327aff85414d36b45aedae7b6585f5",
       "version_major": 2,
       "version_minor": 0
      },
      "text/plain": [
       "HBox(children=(IntProgress(value=0, max=54), HTML(value='')))"
      ]
     },
     "metadata": {},
     "output_type": "display_data"
    },
    {
     "name": "stdout",
     "output_type": "stream",
     "text": [
      "\n",
      "Finished execution of notebook for calcium 20190529 S2\n",
      "Running motion correction for calcium 20190530 S1.\n",
      "Output notebook: 01_Preprocess_MC_3D_calcium_20190530_S1.ipynb\n"
     ]
    },
    {
     "data": {
      "application/vnd.jupyter.widget-view+json": {
       "model_id": "39cb9204f23247bdb6fd42cadbbe8245",
       "version_major": 2,
       "version_minor": 0
      },
      "text/plain": [
       "HBox(children=(IntProgress(value=0, max=54), HTML(value='')))"
      ]
     },
     "metadata": {},
     "output_type": "display_data"
    },
    {
     "name": "stdout",
     "output_type": "stream",
     "text": [
      "\n",
      "Finished execution of notebook for calcium 20190530 S1\n",
      "Running motion correction for calcium 20190530 S2.\n",
      "Output notebook: 01_Preprocess_MC_3D_calcium_20190530_S2.ipynb\n"
     ]
    },
    {
     "data": {
      "application/vnd.jupyter.widget-view+json": {
       "model_id": "efe79170d3b342acb7645501d1d35c0e",
       "version_major": 2,
       "version_minor": 0
      },
      "text/plain": [
       "HBox(children=(IntProgress(value=0, max=54), HTML(value='')))"
      ]
     },
     "metadata": {},
     "output_type": "display_data"
    },
    {
     "name": "stdout",
     "output_type": "stream",
     "text": [
      "\n",
      "Finished execution of notebook for calcium 20190530 S2\n",
      "Running motion correction for calcium 20190531 S1.\n",
      "Output notebook: 01_Preprocess_MC_3D_calcium_20190531_S1.ipynb\n"
     ]
    },
    {
     "data": {
      "application/vnd.jupyter.widget-view+json": {
       "model_id": "02abd75dd2e5452d857f07ceccb3b8a7",
       "version_major": 2,
       "version_minor": 0
      },
      "text/plain": [
       "HBox(children=(IntProgress(value=0, max=54), HTML(value='')))"
      ]
     },
     "metadata": {},
     "output_type": "display_data"
    },
    {
     "name": "stdout",
     "output_type": "stream",
     "text": [
      "\n",
      "Finished execution of notebook for calcium 20190531 S1\n",
      "Running motion correction for calcium 20190531 S2.\n",
      "Output notebook: 01_Preprocess_MC_3D_calcium_20190531_S2.ipynb\n"
     ]
    },
    {
     "data": {
      "application/vnd.jupyter.widget-view+json": {
       "model_id": "9437d44665504eb3962a0d830265fc32",
       "version_major": 2,
       "version_minor": 0
      },
      "text/plain": [
       "HBox(children=(IntProgress(value=0, max=54), HTML(value='')))"
      ]
     },
     "metadata": {},
     "output_type": "display_data"
    },
    {
     "name": "stdout",
     "output_type": "stream",
     "text": [
      "\n",
      "Finished execution of notebook for calcium 20190531 S2\n"
     ]
    }
   ],
   "source": [
    "input_nb = '01_Preprocess_MC_3D.ipynb'\n",
    "for ix, session in enumerate(sessions_to_analyze):\n",
    "    current_config = config_file_list[ix]\n",
    "    output_nb = input_nb.replace('.ipynb', '_%s_%s_%s.ipynb' % (session[0], session[1], session[2]))\n",
    "    print('Running motion correction for %s %s %s.\\nOutput notebook: %s' % \n",
    "          (session[0], session[1], session[2], output_nb))\n",
    "    \n",
    "    try:\n",
    "        pm.execute_notebook(\n",
    "            input_nb, \n",
    "            output_nb, \n",
    "            parameters = dict(config_file=current_config)\n",
    "        )\n",
    "        print('Finished execution of notebook for %s %s %s' % (session[0], session[1], session[2]))\n",
    "        with open(current_config.replace('.yml','.success'), 'w') as outfile:\n",
    "            pass\n",
    "    except:\n",
    "        with open(current_config.replace('.yml','.error'), 'w') as outfile:\n",
    "            pass\n",
    "        raise Exception('Error during execution of notebook for %s %s %s. Check output notebook!' \n",
    "                        % (session[0], session[1], session[2]))\n",
    "        break\n",
    "\n",
    "    os.remove(current_config)"
   ]
  },
  {
   "cell_type": "code",
   "execution_count": null,
   "metadata": {},
   "outputs": [],
   "source": []
  }
 ],
 "metadata": {
  "kernelspec": {
   "display_name": "caiman",
   "language": "python",
   "name": "caiman"
  },
  "language_info": {
   "codemirror_mode": {
    "name": "ipython",
    "version": 3
   },
   "file_extension": ".py",
   "mimetype": "text/x-python",
   "name": "python",
   "nbconvert_exporter": "python",
   "pygments_lexer": "ipython3",
   "version": "3.6.7"
  }
 },
 "nbformat": 4,
 "nbformat_minor": 2
}
