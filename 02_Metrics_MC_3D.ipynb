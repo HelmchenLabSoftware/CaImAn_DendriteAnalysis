{
 "cells": [
  {
   "cell_type": "markdown",
   "metadata": {},
   "source": [
    "## Inspect results of motion correction\n",
    "Step 2 of the Caiman processing pipeline for multi-layer two-photon calcium imaging movies. This notebook shows the results of the motion correction performed in step 1 and allows the selection of 'bad frames' (i.e. frames which have too much residual motion). This is an interactive step that has to be run seperately for each dataset."
   ]
  },
  {
   "cell_type": "markdown",
   "metadata": {},
   "source": [
    "### Imports & Setup\n",
    "The first cells import the various Python modules required by the notebook. In particular, a number of modules are imported from the Caiman package. In addition, we also setup the environment so that everything works as expected."
   ]
  },
  {
   "cell_type": "code",
   "execution_count": null,
   "metadata": {},
   "outputs": [],
   "source": [
    "# Import Bokeh library\n",
    "from bokeh.plotting import Figure, show\n",
    "from bokeh.layouts import gridplot\n",
    "from bokeh.models import Range1d, CrosshairTool, HoverTool, Legend\n",
    "from bokeh.io import output_notebook, export_svgs\n",
    "from bokeh.models.sources import ColumnDataSource\n",
    "from bokeh import palettes"
   ]
  },
  {
   "cell_type": "code",
   "execution_count": null,
   "metadata": {},
   "outputs": [],
   "source": [
    "# This has to be in a separate cell, otherwise it wont work.\n",
    "from bokeh import resources\n",
    "output_notebook(resources=resources.INLINE)"
   ]
  },
  {
   "cell_type": "markdown",
   "metadata": {},
   "source": [
    "### Display average signal intensity\n",
    "This step is optional and useful as sanity check how the imported data looks like."
   ]
  },
  {
   "cell_type": "code",
   "execution_count": null,
   "metadata": {},
   "outputs": [],
   "source": [
    "# select group (0, 1, ...)\n",
    "group_ix = 0\n",
    "\n",
    "color_map = palettes.d3['Category10'][10] # colors for different planes\n",
    "\n",
    "# prepare data structure\n",
    "trial_names = [x.replace(working_data_folder + os.path.sep,'')[:8] for x in stacked_files_by_group[group_ix]]\n",
    "trial_names_frames = [trial_names[x] for x in trial_indices_list[group_ix]]\n",
    "data = {'x': np.array(range(total_frames_list[group_ix])), \n",
    "        'trial_idx': trial_indices_list[group_ix],\n",
    "        'trial_name': trial_names_frames\n",
    "       }\n",
    "\n",
    "# add average for each plane\n",
    "for i_plane in range(n_planes):\n",
    "    tiff_file = os.path.join(working_data_folder, joined_tif_list[group_ix] + '_P%d.tif' % (i_plane))\n",
    "    mov = cm.load(tiff_file, outtype=np.int16)\n",
    "\n",
    "    # plot average signal intensity per frame\n",
    "    frame_avg = np.mean(np.mean(mov, axis=1), axis=1)\n",
    "\n",
    "    fieldname = 'y%s' % (i_plane)\n",
    "    data[fieldname] = frame_avg\n",
    "    \n",
    "data_source = ColumnDataSource(data)\n",
    "\n",
    "# create figure and plot\n",
    "p = Figure(plot_width=900, plot_height=300, title=('Frame average - Group %d' % (group_ix))) \n",
    "p.add_tools(CrosshairTool(), utils.getHover())\n",
    "for i_plane in range(n_planes):\n",
    "    p.line('x', 'y%s' % (i_plane), source=data_source, line_width=2, color=color_map[i_plane], legend='Plane %s' % (i_plane))\n",
    "\n",
    "show(p)"
   ]
  },
  {
   "cell_type": "markdown",
   "metadata": {},
   "source": [
    "### Correlation with template - uncorrected data\n",
    "First, we just get the correlation with the template for the uncorrected data. This part is optional and can be used for example to re-assign groups."
   ]
  },
  {
   "cell_type": "code",
   "execution_count": null,
   "metadata": {},
   "outputs": [],
   "source": [
    "# Todo: parallelize\n",
    "corr_orig_list = []\n",
    "\n",
    "t_start = time.time()\n",
    "for ix_file, i_file in enumerate(joined_tif_list):\n",
    "    corr_orig_list.append([])\n",
    "    for i_plane in range(n_planes):\n",
    "        fname = os.path.join(working_data_folder, i_file + '_P%d.tif' % (i_plane))\n",
    "\n",
    "        # compute initial template by binned median filtering\n",
    "        template = cm.load(fname).bin_median(window=10)\n",
    "    \n",
    "        corr_orig = []\n",
    "        for frame in cm.load(fname):\n",
    "            corr_orig.append(scipy.stats.pearsonr(frame.flatten(), template.flatten())[0])\n",
    "        corr_orig_list[ix_file].append(corr_orig)\n",
    "    \n",
    "# print elapsed time\n",
    "t_elapsed = time.time() - t_start\n",
    "print('\\nFinished pre-MC in %1.2f s (%1.2f s per frame)' % (t_elapsed, t_elapsed/(sum(total_frames_list)*n_planes)))"
   ]
  },
  {
   "cell_type": "markdown",
   "metadata": {},
   "source": [
    "Plot results of the correlation with template."
   ]
  },
  {
   "cell_type": "code",
   "execution_count": null,
   "metadata": {},
   "outputs": [],
   "source": [
    "# select group (0, 1, ...)\n",
    "group_ix = 0\n",
    "\n",
    "trial_names = [x.replace(working_data_folder + os.path.sep,'')[:8] for x in stacked_files_by_group[group_ix]]\n",
    "trial_names_frames = [trial_names[x] for x in trial_indices_list[group_ix]]\n",
    "\n",
    "# frames = np.array(range(len(corr_orig_list[group_ix])))\n",
    "data = {'x': np.array(range(len(corr_orig_list[group_ix][0]))), \n",
    "        'trial_idx': trial_indices_list[group_ix],\n",
    "        'trial_name': trial_names_frames\n",
    "       }\n",
    "\n",
    "# add average for each plane\n",
    "for i_plane in range(n_planes):\n",
    "    fieldname = 'y%s' % (i_plane)\n",
    "    data[fieldname] = corr_orig_list[group_ix][i_plane]\n",
    "\n",
    "data_source = ColumnDataSource(data)\n",
    "\n",
    "p = Figure(plot_width=900, plot_height=300, title=('Correlation with template - Group %d' % (group_ix))) \n",
    "p.add_tools(CrosshairTool(), utils.getHover())\n",
    "for i_plane in range(n_planes):\n",
    "    p.line('x', 'y%s' % (i_plane), source=data_source, line_width=2, color=color_map[i_plane], legend='Plane %s' % (i_plane))\n",
    "\n",
    "show(p)"
   ]
  },
  {
   "cell_type": "markdown",
   "metadata": {},
   "source": [
    "### Metrics and summary plots\n",
    "Print different metrics for raw movie and rigid / pw-rigid corrected movies."
   ]
  },
  {
   "cell_type": "code",
   "execution_count": null,
   "metadata": {},
   "outputs": [],
   "source": [
    "for i_group in range(n_groups):\n",
    "    for i_plane in range(n_planes):\n",
    "        print('MC evaluation - Group %d - Plane %d:' % (i_group, i_plane))\n",
    "        mc_utils.printMetrics(corr_mean[i_group][i_plane], corr_min[i_group][i_plane], crispness[i_group][i_plane], norms[i_group][i_plane])\n",
    "        print('\\n')"
   ]
  },
  {
   "cell_type": "markdown",
   "metadata": {},
   "source": [
    "Plot correlations of each frame with the template image (binned median) for original, rigid correction and pw-rigid correction. The bokeh plotting library provides a toolbar for interaction with the plot."
   ]
  },
  {
   "cell_type": "code",
   "execution_count": null,
   "metadata": {},
   "outputs": [],
   "source": [
    "# select group (0, 1, ...)\n",
    "group_ix = 0\n",
    "# select plane (0, 1, ..)\n",
    "plane_ix = 0\n",
    "\n",
    "p1 = Figure(plot_width=900, plot_height=300, title=('Correlation with template - Group %d - Plane %d' % (group_ix, plane_ix))) \n",
    "frames = np.array(range(len(metrics[group_ix][plane_ix]['corr_orig'])))\n",
    "p1.line(frames,np.array(metrics[group_ix][plane_ix]['corr_orig']), line_width=2, legend='Original', color='blue')\n",
    "p1.line(frames,np.array(metrics[group_ix][plane_ix]['corr_rig']), line_width=2, legend='Rigid', color='orange')\n",
    "if opts.get('motion', 'pw_rigid'):\n",
    "    p1.line(frames,np.array(metrics[group_ix][plane_ix]['corr_els']), line_width=2, legend='PW-Rigid', color='green')\n",
    "\n",
    "p2 = Figure(plot_width=250, plot_height=250)\n",
    "p2.circle(np.array(metrics[group_ix][plane_ix]['corr_orig']), np.array(metrics[group_ix][plane_ix]['corr_rig']), size=5)\n",
    "p2.line([0,1],[0,1], line_width=1, color='black', line_dash='dashed')\n",
    "p2.xaxis.axis_label = 'Original'\n",
    "p2.yaxis.axis_label = 'Rigid'\n",
    "\n",
    "if opts.get('motion', 'pw_rigid'):\n",
    "    p3 = Figure(plot_width=250, plot_height=250)\n",
    "    p3.circle(np.array(metrics[group_ix][plane_ix]['corr_rig']), np.array(metrics[group_ix][plane_ix]['corr_els']), size=5)\n",
    "    p3.line([0,1],[0,1], line_width=1, color='black', line_dash='dashed')\n",
    "    p3.xaxis.axis_label = 'Rigid'\n",
    "    p3.yaxis.axis_label = 'PW-Rigid'\n",
    "\n",
    "# make a grid\n",
    "if opts.get('motion', 'pw_rigid'):\n",
    "    grid = gridplot([[p1, None], [p2, p3]], sizing_mode='fixed', toolbar_location='left')\n",
    "else:\n",
    "    grid = gridplot([[p1, p2], [None, None]], sizing_mode='fixed', toolbar_location='left')\n",
    "\n",
    "show(grid)"
   ]
  },
  {
   "cell_type": "markdown",
   "metadata": {},
   "source": [
    "### Detect frames with bad motion\n",
    "Identify frames with significant residual motion (low correlation with template). Write a JSON file with criterion and indices of frames matching the criterion. This file can be used in further analysis to exclude the frames corrupted by motion."
   ]
  },
  {
   "cell_type": "code",
   "execution_count": null,
   "metadata": {},
   "outputs": [],
   "source": [
    "thresh = [\n",
    "    [0, 0.1, 0.1, 0.1]\n",
    "] # find frames where value is less than criterion (one value per group and plane)\n",
    "\n",
    "for i_group in range(n_groups):\n",
    "    for i_plane in range(n_planes):\n",
    "        print('Group %d - Plane %d' % (i_group, i_plane))\n",
    "        if opts.get('motion', 'pw_rigid'):\n",
    "            # pw-rigid registration\n",
    "            criterion = 'corr_els'\n",
    "            bad_frames = [ix for ix, i in enumerate(metrics[i_group][i_plane][criterion]) \n",
    "                          if i < thresh[i_group][i_plane]]\n",
    "            print('%1.0f frames matching criterion after pw-rigid registration.' % (len(bad_frames)))\n",
    "            mc_utils.writeJsonBadFrames(criterion, thresh[i_group][i_plane], \n",
    "                                        bad_frames, mc_list[i_group][i_plane], 'els', working_data_folder)\n",
    "        # rigid registration\n",
    "        criterion = 'corr_rig'\n",
    "        bad_frames = [ix for ix, i in enumerate(metrics[i_group][i_plane][criterion]) \n",
    "                      if i < thresh[i_group][i_plane]]\n",
    "        print('\\n%1.0f frames matching criterion after rigid registration.' % (len(bad_frames)))\n",
    "        mc_utils.writeJsonBadFrames(criterion, thresh[i_group][i_plane], \n",
    "                                    bad_frames, mc_list[i_group][i_plane], 'rig', working_data_folder)\n",
    "        print('\\n')"
   ]
  }
 ],
 "metadata": {
  "kernelspec": {
   "display_name": "caiman",
   "language": "python",
   "name": "caiman"
  },
  "language_info": {
   "codemirror_mode": {
    "name": "ipython",
    "version": 3
   },
   "file_extension": ".py",
   "mimetype": "text/x-python",
   "name": "python",
   "nbconvert_exporter": "python",
   "pygments_lexer": "ipython3",
   "version": "3.6.7"
  }
 },
 "nbformat": 4,
 "nbformat_minor": 2
}
